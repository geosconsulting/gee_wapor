{
 "cells": [
  {
   "cell_type": "code",
   "execution_count": 1,
   "metadata": {
    "collapsed": true,
    "deletable": true,
    "editable": true
   },
   "outputs": [],
   "source": [
    "from IPython.display import Image\n",
    "import ee\n",
    "import ee.mapclient\n",
    "import datetime\n",
    "\n",
    "ee.Initialize()\n",
    "L1_AGBPSeasonals = ee.ImageCollection(\"projects/fao-wapor/L1_AGBP\")\n",
    "ETaCollection = ee.ImageCollection(\"projects/fao-wapor/L1_AET\")\n",
    "AET250 = ee.ImageCollection(\"users/lpeiserfao/AET250\")\n",
    "AET_prima = ee.Image(AET250.first())"
   ]
  },
  {
   "cell_type": "code",
   "execution_count": 16,
   "metadata": {
    "collapsed": false
   },
   "outputs": [
    {
     "data": {
      "text/plain": [
       "{u'bands': [{u'crs': u'EPSG:4326',\n",
       "   u'crs_transform': [0.002232142857,\n",
       "    0.0,\n",
       "    -30.0044643,\n",
       "    0.0,\n",
       "    -0.002232142857,\n",
       "    40.0044643],\n",
       "   u'data_type': {u'max': 255,\n",
       "    u'min': 0,\n",
       "    u'precision': u'int',\n",
       "    u'type': u'PixelType'},\n",
       "   u'dimensions': [42564, 35844],\n",
       "   u'id': u'b1'}],\n",
       " u'id': u'users/lpeiserfao/AET250/L1_AET_1501',\n",
       " u'properties': {u'area': u'AfNE',\n",
       "  u'days_in_dk': 10.0,\n",
       "  u'id_no': u'L1_AET_1501',\n",
       "  u'level': 1.0,\n",
       "  u'season': 1.0,\n",
       "  u'system:asset_size': 226710072,\n",
       "  u'system:footprint': {u'coordinates': [[9.335362008868378,\n",
       "     40.005584280684296],\n",
       "    [-1.7982352281500638, 40.00558428068428],\n",
       "    [-14.41631209675748, 40.00558428068428],\n",
       "    [-30.00626732411414, 40.00557958876544],\n",
       "    [-30.006267324112713, -40.005579555073446],\n",
       "    [-17.756391267857275, -40.005584246992285],\n",
       "    [-4.3960745834483435, -40.00558424699227],\n",
       "    [15.644400443173007, -40.00558424699228],\n",
       "    [32.344796298689445, -40.00558424699228],\n",
       "    [47.56071252260296, -40.00558424699228],\n",
       "    [65.00626728946072, -40.005579555073446],\n",
       "    [65.00626728946217, 40.00557958876546],\n",
       "    [51.27191160160612, 40.005584280684275],\n",
       "    [38.65383473299801, 40.005584280684275],\n",
       "    [30.86031666708514, 40.005584280684275],\n",
       "    [17.871119890577205, 40.005584280684296],\n",
       "    [9.335362008868378, 40.005584280684296]],\n",
       "   u'type': u'LinearRing'},\n",
       "  u'system:index': u'L1_AET_1501',\n",
       "  u'system:time_start': 1420113600000.0},\n",
       " u'type': u'Image',\n",
       " u'version': 1484560310635000L}"
      ]
     },
     "execution_count": 16,
     "metadata": {},
     "output_type": "execute_result"
    }
   ],
   "source": [
    "AET_prima.getInfo()"
   ]
  },
  {
   "cell_type": "code",
   "execution_count": 24,
   "metadata": {
    "collapsed": false,
    "deletable": true,
    "editable": true
   },
   "outputs": [],
   "source": [
    " # Actual Evapotranspiration with valid ETa values (>0 and <254)\n",
    "ETaColl1 = AET250.map(lambda imm_eta: imm_eta.updateMask\n",
    "                                   (imm_eta.lt(254) and (imm_eta.gt(0))))\n",
    "\n",
    "# add image property (days in dekad) as band\n",
    "ETaColl2 = ETaColl1.map(lambda imm_eta2: imm_eta2.addBands(\n",
    "                                                 imm_eta2.metadata(\n",
    "                                                 'days_in_dk'))) \n",
    "\n",
    "# get ET value, divide by 10 (as per FRAME spec) to get daily\n",
    "        # value, and  multiply by number of days in dekad summed annuallyS\n",
    "\n",
    "ETaColl3 = ETaColl2.map(lambda imm_eta3: imm_eta3.select(\n",
    "            'b1').divide(10).multiply(imm_eta3.select('days_in_dk'))).sum()"
   ]
  },
  {
   "cell_type": "code",
   "execution_count": 26,
   "metadata": {
    "collapsed": false
   },
   "outputs": [
    {
     "data": {
      "text/html": [
       "<img src=\"https://earthengine.googleapis.com/api/thumb?thumbid=516d09800f3670495b3829e06353e160&token=2b8fa77228bc11967ff0d1e253b649f9\"/>"
      ],
      "text/plain": [
       "<IPython.core.display.Image object>"
      ]
     },
     "execution_count": 26,
     "metadata": {},
     "output_type": "execute_result"
    }
   ],
   "source": [
    "im_uno = ee.Image(ETaColl1.first())\n",
    "url_thumb_ima_uno = im_uno.getThumbUrl()\n",
    "Image(url=url_thumb_ima_uno)"
   ]
  },
  {
   "cell_type": "code",
   "execution_count": 27,
   "metadata": {
    "collapsed": false
   },
   "outputs": [
    {
     "data": {
      "text/plain": [
       "[u'b1']"
      ]
     },
     "execution_count": 27,
     "metadata": {},
     "output_type": "execute_result"
    }
   ],
   "source": [
    "im_uno.bandNames().getInfo()"
   ]
  },
  {
   "cell_type": "code",
   "execution_count": 15,
   "metadata": {
    "collapsed": false
   },
   "outputs": [
    {
     "data": {
      "text/html": [
       "<img src=\"https://earthengine.googleapis.com/api/thumb?thumbid=a5c1fb8f5cd93286fdff7be720495cf1&token=cbeeb7de33d16a105dbec667453cccf7\"/>"
      ],
      "text/plain": [
       "<IPython.core.display.Image object>"
      ]
     },
     "execution_count": 15,
     "metadata": {},
     "output_type": "execute_result"
    }
   ],
   "source": [
    "im_due = ee.Image(ETaColl2.first())\n",
    "url_thumb_ima_due = im_due.getThumbUrl()\n",
    "Image(url=url_thumb_ima_due)"
   ]
  },
  {
   "cell_type": "code",
   "execution_count": 20,
   "metadata": {
    "collapsed": false
   },
   "outputs": [
    {
     "data": {
      "text/plain": [
       "[u'b1', u'days_in_dk']"
      ]
     },
     "execution_count": 20,
     "metadata": {},
     "output_type": "execute_result"
    }
   ],
   "source": [
    "im_due.bandNames().getInfo()"
   ]
  },
  {
   "cell_type": "code",
   "execution_count": 45,
   "metadata": {
    "collapsed": false
   },
   "outputs": [
    {
     "data": {
      "text/html": [
       "<img src=\"https://earthengine.googleapis.com/api/thumb?thumbid=fecbf249e21a0cf86acd625b30068e6d&token=8b0f7dbba118e2f9b5b508bfb12807aa\"/>"
      ],
      "text/plain": [
       "<IPython.core.display.Image object>"
      ]
     },
     "execution_count": 45,
     "metadata": {},
     "output_type": "execute_result"
    }
   ],
   "source": [
    "#blank = ee.Image(100)\n",
    "#maskera = blank.where(im_due.lte(0))\n",
    "maskera0 = im_due.eq(0)\n",
    "url_thumb_maskera0 = maskera0.getThumbUrl()\n",
    "Image(url=url_thumb_maskera0)"
   ]
  },
  {
   "cell_type": "code",
   "execution_count": 47,
   "metadata": {
    "collapsed": false
   },
   "outputs": [
    {
     "data": {
      "text/html": [
       "<img src=\"https://earthengine.googleapis.com/api/thumb?thumbid=db12c31daba319d37ea620ac285d59df&token=4e2663f1c482a3850bf0020fea45fb31\"/>"
      ],
      "text/plain": [
       "<IPython.core.display.Image object>"
      ]
     },
     "execution_count": 47,
     "metadata": {},
     "output_type": "execute_result"
    }
   ],
   "source": [
    "maskera10 = im_due.eq(10)\n",
    "url_thumb_maskera10 = maskera10.getThumbUrl()\n",
    "Image(url=url_thumb_maskera10)"
   ]
  },
  {
   "cell_type": "code",
   "execution_count": 48,
   "metadata": {
    "collapsed": false
   },
   "outputs": [
    {
     "data": {
      "text/html": [
       "<img src=\"https://earthengine.googleapis.com/api/thumb?thumbid=e61adfd95691d105600bd72385a49a17&token=f4b6ca1b2cdd53c1347ebe3c9193b416\"/>"
      ],
      "text/plain": [
       "<IPython.core.display.Image object>"
      ]
     },
     "execution_count": 48,
     "metadata": {},
     "output_type": "execute_result"
    }
   ],
   "source": [
    "maskera11 = im_due.eq(11)\n",
    "url_thumb_maskera11 = maskera11.getThumbUrl()\n",
    "Image(url=url_thumb_maskera11)"
   ]
  },
  {
   "cell_type": "code",
   "execution_count": 3,
   "metadata": {
    "collapsed": false,
    "deletable": true,
    "editable": true
   },
   "outputs": [],
   "source": [
    "region = [[-25.0, -37.0], [60.0, -41.0], [58.0, 39.0], [-31.0, 38.0], [-25.0, -37.0]]\n",
    "scala = AET_prima.projection().nominalScale().getInfo()\n",
    "\n",
    "visparams = {\"opacity\":1,\n",
    "             \"min\": 0,\n",
    "             \"max\": 2000,\n",
    "             \"palette\": \"d4ffc6,beffed,79c1ff,3e539f\",\n",
    "             \"region\":region,\n",
    "             \"scale\" : scala}"
   ]
  },
  {
   "cell_type": "code",
   "execution_count": 38,
   "metadata": {
    "collapsed": false,
    "deletable": true,
    "editable": true
   },
   "outputs": [
    {
     "data": {
      "text/html": [
       "<img src=\"https://earthengine.googleapis.com/api/thumb?thumbid=1d11f8d327d4241c4d574ff49d6c215b&token=a866cff6b71ecbc29107e9d349853f4b\"/>"
      ],
      "text/plain": [
       "<IPython.core.display.Image object>"
      ]
     },
     "execution_count": 38,
     "metadata": {},
     "output_type": "execute_result"
    }
   ],
   "source": [
    "ETaColl1_median = ETaColl1.median()\n",
    "url_thumb_ETaColl1 = ETaColl1_median.getThumbUrl()\n",
    "Image(url=url_thumb_ETaColl1)"
   ]
  },
  {
   "cell_type": "code",
   "execution_count": null,
   "metadata": {
    "collapsed": true,
    "deletable": true,
    "editable": true
   },
   "outputs": [],
   "source": [
    "url_thumb_ETaColl2 = ETaColl2.getThumbUrl()\n",
    "Image(url=url_thumb_ETaColl2)"
   ]
  },
  {
   "cell_type": "code",
   "execution_count": 25,
   "metadata": {
    "collapsed": false,
    "deletable": true,
    "editable": true
   },
   "outputs": [
    {
     "ename": "EEException",
     "evalue": "reduce.sum: Error in map(ID=L1_AET_1501):\nImage.select: Pattern 'days_in_dk' did not match any bands.",
     "output_type": "error",
     "traceback": [
      "\u001b[0;31m---------------------------------------------------------------------------\u001b[0m",
      "\u001b[0;31mEEException\u001b[0m                               Traceback (most recent call last)",
      "\u001b[0;32m<ipython-input-25-5c42c78e4e53>\u001b[0m in \u001b[0;36m<module>\u001b[0;34m()\u001b[0m\n\u001b[0;32m----> 1\u001b[0;31m \u001b[0murl_thumb_ETaColl3\u001b[0m \u001b[0;34m=\u001b[0m \u001b[0mETaColl3\u001b[0m\u001b[0;34m.\u001b[0m\u001b[0mgetThumbUrl\u001b[0m\u001b[0;34m(\u001b[0m\u001b[0mvisparams\u001b[0m\u001b[0;34m)\u001b[0m\u001b[0;34m\u001b[0m\u001b[0m\n\u001b[0m\u001b[1;32m      2\u001b[0m \u001b[0mImage\u001b[0m\u001b[0;34m(\u001b[0m\u001b[0murl\u001b[0m\u001b[0;34m=\u001b[0m\u001b[0murl_thumb_ETaColl3\u001b[0m\u001b[0;34m)\u001b[0m\u001b[0;34m\u001b[0m\u001b[0m\n",
      "\u001b[0;32m/usr/local/lib/python2.7/dist-packages/ee/deprecation.pyc\u001b[0m in \u001b[0;36mWrapper\u001b[0;34m(*args, **kwargs)\u001b[0m\n\u001b[1;32m     30\u001b[0m           \u001b[0mfilename\u001b[0m\u001b[0;34m=\u001b[0m\u001b[0mfunc\u001b[0m\u001b[0;34m.\u001b[0m\u001b[0m__code__\u001b[0m\u001b[0;34m.\u001b[0m\u001b[0mco_filename\u001b[0m\u001b[0;34m,\u001b[0m\u001b[0;34m\u001b[0m\u001b[0m\n\u001b[1;32m     31\u001b[0m           lineno=func.__code__.co_firstlineno + 1)\n\u001b[0;32m---> 32\u001b[0;31m       \u001b[0;32mreturn\u001b[0m \u001b[0mfunc\u001b[0m\u001b[0;34m(\u001b[0m\u001b[0;34m*\u001b[0m\u001b[0margs\u001b[0m\u001b[0;34m,\u001b[0m \u001b[0;34m**\u001b[0m\u001b[0mkwargs\u001b[0m\u001b[0;34m)\u001b[0m\u001b[0;34m\u001b[0m\u001b[0m\n\u001b[0m\u001b[1;32m     33\u001b[0m     \u001b[0mWrapper\u001b[0m\u001b[0;34m.\u001b[0m\u001b[0m__doc__\u001b[0m \u001b[0;34m+=\u001b[0m \u001b[0;34m'\\nDEPRECATED: '\u001b[0m \u001b[0;34m+\u001b[0m \u001b[0mmessage\u001b[0m\u001b[0;34m\u001b[0m\u001b[0m\n\u001b[1;32m     34\u001b[0m     \u001b[0;32mreturn\u001b[0m \u001b[0mWrapper\u001b[0m\u001b[0;34m\u001b[0m\u001b[0m\n",
      "\u001b[0;32m/usr/local/lib/python2.7/dist-packages/ee/image.pyc\u001b[0m in \u001b[0;36mgetThumbURL\u001b[0;34m(self, params)\u001b[0m\n\u001b[1;32m    195\u001b[0m         raise ee_exception.EEException(\n\u001b[1;32m    196\u001b[0m             'The region parameter must be an array or a GeoJSON object.')\n\u001b[0;32m--> 197\u001b[0;31m     \u001b[0;32mreturn\u001b[0m \u001b[0mdata\u001b[0m\u001b[0;34m.\u001b[0m\u001b[0mmakeThumbUrl\u001b[0m\u001b[0;34m(\u001b[0m\u001b[0mdata\u001b[0m\u001b[0;34m.\u001b[0m\u001b[0mgetThumbId\u001b[0m\u001b[0;34m(\u001b[0m\u001b[0mrequest\u001b[0m\u001b[0;34m)\u001b[0m\u001b[0;34m)\u001b[0m\u001b[0;34m\u001b[0m\u001b[0m\n\u001b[0m\u001b[1;32m    198\u001b[0m \u001b[0;34m\u001b[0m\u001b[0m\n\u001b[1;32m    199\u001b[0m   \u001b[0;31m# Deprecated spellings to match the JS library.\u001b[0m\u001b[0;34m\u001b[0m\u001b[0;34m\u001b[0m\u001b[0m\n",
      "\u001b[0;32m/usr/local/lib/python2.7/dist-packages/ee/data.pyc\u001b[0m in \u001b[0;36mgetThumbId\u001b[0;34m(params)\u001b[0m\n\u001b[1;32m    282\u001b[0m   \u001b[0;32mif\u001b[0m \u001b[0;34m'size'\u001b[0m \u001b[0;32min\u001b[0m \u001b[0mrequest\u001b[0m \u001b[0;32mand\u001b[0m \u001b[0misinstance\u001b[0m\u001b[0;34m(\u001b[0m\u001b[0mrequest\u001b[0m\u001b[0;34m[\u001b[0m\u001b[0;34m'size'\u001b[0m\u001b[0;34m]\u001b[0m\u001b[0;34m,\u001b[0m \u001b[0;34m(\u001b[0m\u001b[0mlist\u001b[0m\u001b[0;34m,\u001b[0m \u001b[0mtuple\u001b[0m\u001b[0;34m)\u001b[0m\u001b[0;34m)\u001b[0m\u001b[0;34m:\u001b[0m\u001b[0;34m\u001b[0m\u001b[0m\n\u001b[1;32m    283\u001b[0m     \u001b[0mrequest\u001b[0m\u001b[0;34m[\u001b[0m\u001b[0;34m'size'\u001b[0m\u001b[0;34m]\u001b[0m \u001b[0;34m=\u001b[0m \u001b[0;34m'x'\u001b[0m\u001b[0;34m.\u001b[0m\u001b[0mjoin\u001b[0m\u001b[0;34m(\u001b[0m\u001b[0mmap\u001b[0m\u001b[0;34m(\u001b[0m\u001b[0mstr\u001b[0m\u001b[0;34m,\u001b[0m \u001b[0mrequest\u001b[0m\u001b[0;34m[\u001b[0m\u001b[0;34m'size'\u001b[0m\u001b[0;34m]\u001b[0m\u001b[0;34m)\u001b[0m\u001b[0;34m)\u001b[0m\u001b[0;34m\u001b[0m\u001b[0m\n\u001b[0;32m--> 284\u001b[0;31m   \u001b[0;32mreturn\u001b[0m \u001b[0msend_\u001b[0m\u001b[0;34m(\u001b[0m\u001b[0;34m'/thumb'\u001b[0m\u001b[0;34m,\u001b[0m \u001b[0mrequest\u001b[0m\u001b[0;34m)\u001b[0m\u001b[0;34m\u001b[0m\u001b[0m\n\u001b[0m\u001b[1;32m    285\u001b[0m \u001b[0;34m\u001b[0m\u001b[0m\n\u001b[1;32m    286\u001b[0m \u001b[0;34m\u001b[0m\u001b[0m\n",
      "\u001b[0;32m/usr/local/lib/python2.7/dist-packages/ee/data.pyc\u001b[0m in \u001b[0;36msend_\u001b[0;34m(path, params, opt_method, opt_raw)\u001b[0m\n\u001b[1;32m    726\u001b[0m       \u001b[0;32mraise\u001b[0m \u001b[0mee_exception\u001b[0m\u001b[0;34m.\u001b[0m\u001b[0mEEException\u001b[0m\u001b[0;34m(\u001b[0m\u001b[0;34m'Invalid JSON: %s'\u001b[0m \u001b[0;34m%\u001b[0m \u001b[0mcontent\u001b[0m\u001b[0;34m)\u001b[0m\u001b[0;34m\u001b[0m\u001b[0m\n\u001b[1;32m    727\u001b[0m     \u001b[0;32mif\u001b[0m \u001b[0;34m'error'\u001b[0m \u001b[0;32min\u001b[0m \u001b[0mjson_content\u001b[0m\u001b[0;34m:\u001b[0m\u001b[0;34m\u001b[0m\u001b[0m\n\u001b[0;32m--> 728\u001b[0;31m       \u001b[0;32mraise\u001b[0m \u001b[0mee_exception\u001b[0m\u001b[0;34m.\u001b[0m\u001b[0mEEException\u001b[0m\u001b[0;34m(\u001b[0m\u001b[0mjson_content\u001b[0m\u001b[0;34m[\u001b[0m\u001b[0;34m'error'\u001b[0m\u001b[0;34m]\u001b[0m\u001b[0;34m[\u001b[0m\u001b[0;34m'message'\u001b[0m\u001b[0;34m]\u001b[0m\u001b[0;34m)\u001b[0m\u001b[0;34m\u001b[0m\u001b[0m\n\u001b[0m\u001b[1;32m    729\u001b[0m     \u001b[0;32mif\u001b[0m \u001b[0;34m'data'\u001b[0m \u001b[0;32mnot\u001b[0m \u001b[0;32min\u001b[0m \u001b[0mcontent\u001b[0m\u001b[0;34m:\u001b[0m\u001b[0;34m\u001b[0m\u001b[0m\n\u001b[1;32m    730\u001b[0m       \u001b[0;32mraise\u001b[0m \u001b[0mee_exception\u001b[0m\u001b[0;34m.\u001b[0m\u001b[0mEEException\u001b[0m\u001b[0;34m(\u001b[0m\u001b[0;34m'Malformed response: '\u001b[0m \u001b[0;34m+\u001b[0m \u001b[0mstr\u001b[0m\u001b[0;34m(\u001b[0m\u001b[0mcontent\u001b[0m\u001b[0;34m)\u001b[0m\u001b[0;34m)\u001b[0m\u001b[0;34m\u001b[0m\u001b[0m\n",
      "\u001b[0;31mEEException\u001b[0m: reduce.sum: Error in map(ID=L1_AET_1501):\nImage.select: Pattern 'days_in_dk' did not match any bands."
     ]
    }
   ],
   "source": [
    "url_thumb_ETaColl3 = ETaColl3.getThumbUrl(visparams)\n",
    "Image(url=url_thumb_ETaColl3)"
   ]
  },
  {
   "cell_type": "code",
   "execution_count": null,
   "metadata": {
    "collapsed": true,
    "deletable": true,
    "editable": true
   },
   "outputs": [],
   "source": [
    "def combineImages(image, previous):\n",
    "    return ee.Image(previous).addBands(ee.Image(image))\n",
    " \n",
    "collection = ee.ImageCollection('MODIS/MOD13Q1').limit(2)\n",
    "image = collection.iterate(combineImages, ee.Image())\n",
    "print ee.Image(image).slice(1).bandNames().size().getInfo()"
   ]
  },
  {
   "cell_type": "code",
   "execution_count": null,
   "metadata": {
    "collapsed": true,
    "deletable": true,
    "editable": true
   },
   "outputs": [],
   "source": [
    "def maskNoData(image):\n",
    "            return function(image){\n",
    "                    ee.Image(image.updateMask(image.lt(254) and \n",
    "                                            (image.gt(0))))            \n",
    "       \n",
    "illo = L1_AET_calc.iterate(maskNoData)\n"
   ]
  }
 ],
 "metadata": {
  "kernelspec": {
   "display_name": "Python 2",
   "language": "python",
   "name": "python2"
  },
  "language_info": {
   "codemirror_mode": {
    "name": "ipython",
    "version": 2
   },
   "file_extension": ".py",
   "mimetype": "text/x-python",
   "name": "python",
   "nbconvert_exporter": "python",
   "pygments_lexer": "ipython2",
   "version": "2.7.12"
  }
 },
 "nbformat": 4,
 "nbformat_minor": 2
}
