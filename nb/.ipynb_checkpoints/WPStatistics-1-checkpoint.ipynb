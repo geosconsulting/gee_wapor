{
 "cells": [
  {
   "cell_type": "markdown",
   "metadata": {
    "collapsed": false,
    "deletable": true,
    "editable": true
   },
   "source": [
    "import ee\n",
    "from IPython.display import display\n",
    "from IPython.display import Image\n",
    "import math\n",
    "import matplotlib.pyplot as plt\n",
    "from mpl_toolkits.basemap import Basemap\n",
    "from osgeo import gdal 98/\n",
    "import urllib\n",
    "import numpy as np\n",
    "import datetime\n",
    "import seaborn"
   ]
  },
  {
   "cell_type": "code",
   "execution_count": 3,
   "metadata": {
    "collapsed": true
   },
   "outputs": [],
   "source": [
    "import ee\n",
    "from IPython import display\n",
    "from IPython.display import Image\n",
    "import math\n",
    "import matplotlib.pyplot as plt\n",
    "from osgeo import gdal\n",
    "import tempfile\n",
    "import urllib\n",
    "import zipfile\n",
    "from mpl_toolkits.basemap import Basemap\n",
    "import numpy as np\n",
    "import datetime"
   ]
  },
  {
   "cell_type": "code",
   "execution_count": 4,
   "metadata": {
    "collapsed": false,
    "deletable": true,
    "editable": true
   },
   "outputs": [],
   "source": [
    "ee.Initialize()\n",
    "\n",
    "# VETTORI\n",
    "countries = ee.FeatureCollection('ft:1tdSwUL7MVpOauSgRzqVTOwdfy17KDbw-1d9omPw')\n",
    "wsheds = ee.FeatureCollection('ft:1IXfrLpTHX4dtdj1LcNXjJADBB-d93rkdJ9acSEWK')\n",
    "\n",
    "# COLLEZIONI RASTER\n",
    "L1_AGBPSeasonals = ee.ImageCollection(\"projects/fao-wapor/L1_AGBP\")\n",
    "L1_AGBPDekadal = ee.ImageCollection(\"projects/fao-wapor/L1_AGBP250\")\n",
    "ETaCollection = ee.ImageCollection(\"projects/fao-wapor/L1_AET\")\n",
    "AET250 = ee.ImageCollection(\"users/lpeiserfao/AET250\")"
   ]
  },
  {
   "cell_type": "code",
   "execution_count": 5,
   "metadata": {
    "collapsed": false,
    "deletable": true,
    "editable": true
   },
   "outputs": [],
   "source": [
    "# AREA OF INTEREST\n",
    "region = [[-25.0, -40.0], [65.0, -40.0], [65.0, 40.0], [-30.0, 40.0], [-30.0, -40.0]]"
   ]
  },
  {
   "cell_type": "code",
   "execution_count": 6,
   "metadata": {
    "collapsed": true,
    "deletable": true,
    "editable": true
   },
   "outputs": [],
   "source": [
    "def genera_wbpm(agbp,aet):    \n",
    "    \n",
    "    L1_AGBPMasked = agbp.map(lambda lista: lista.updateMask(lista.gte(0)))\n",
    "    L1_AGBPSummed = L1_AGBPMasked.sum(); #.multiply(10); \n",
    "    ETaColl1 = aet.map(lambda immagine: immagine.updateMask(immagine.lt(254) and (immagine.gt(0)))) \n",
    "    ETaColl2 = ETaColl1.map(lambda immagine: immagine.addBands(immagine.metadata('days_in_dk')));\n",
    "    ETaColl3 = ETaColl2.map(lambda immagine: immagine.select('b1').divide(10).multiply(immagine.select('days_in_dk'))).sum()\n",
    "    ETaTotm3 = ETaColl3.multiply(10)\n",
    "    WPbm = L1_AGBPSummed.divide(ETaTotm3)\n",
    "    return WPbm"
   ]
  },
  {
   "cell_type": "code",
   "execution_count": 7,
   "metadata": {
    "collapsed": true,
    "deletable": true,
    "editable": true
   },
   "outputs": [],
   "source": [
    "def vizualize_image(wbpm,regione_paese,scala):    \n",
    "    visparams = {\"opacity\":1,\n",
    "             \"min\":0,\n",
    "             \"max\":1.2,\n",
    "             \"palette\":\"bc170f,e97a1a,fff83a,9bff40,5cb326\",\n",
    "             \"region\": regione_paese,\n",
    "             \"scale\" : scala}\n",
    "    \n",
    "    url_WPbm = wbpm.getThumbUrl(visparams)\n",
    "    return url_WPbm"
   ]
  },
  {
   "cell_type": "markdown",
   "metadata": {
    "deletable": true,
    "editable": true
   },
   "source": [
    "# Statistiche WPbm per paese e bacino per periodo "
   ]
  },
  {
   "cell_type": "code",
   "execution_count": 8,
   "metadata": {
    "collapsed": false,
    "deletable": true,
    "editable": true
   },
   "outputs": [
    {
     "ename": "NameError",
     "evalue": "name 'datetime' is not defined",
     "output_type": "error",
     "traceback": [
      "\u001b[0;31m---------------------------------------------------------------------------\u001b[0m",
      "\u001b[0;31mNameError\u001b[0m                                 Traceback (most recent call last)",
      "\u001b[0;32m<ipython-input-8-2a05a36a34b3>\u001b[0m in \u001b[0;36m<module>\u001b[0;34m()\u001b[0m\n\u001b[0;32m----> 1\u001b[0;31m \u001b[0mdata_start\u001b[0m \u001b[0;34m=\u001b[0m \u001b[0mdatetime\u001b[0m\u001b[0;34m.\u001b[0m\u001b[0mdatetime\u001b[0m\u001b[0;34m(\u001b[0m\u001b[0;36m2015\u001b[0m\u001b[0;34m,\u001b[0m \u001b[0;36m1\u001b[0m\u001b[0;34m,\u001b[0m \u001b[0;36m1\u001b[0m\u001b[0;34m)\u001b[0m\u001b[0;34m\u001b[0m\u001b[0m\n\u001b[0m\u001b[1;32m      2\u001b[0m \u001b[0mdata_end\u001b[0m \u001b[0;34m=\u001b[0m \u001b[0mdatetime\u001b[0m\u001b[0;34m.\u001b[0m\u001b[0mdatetime\u001b[0m\u001b[0;34m(\u001b[0m\u001b[0;36m2015\u001b[0m\u001b[0;34m,\u001b[0m \u001b[0;36m3\u001b[0m\u001b[0;34m,\u001b[0m \u001b[0;36m30\u001b[0m\u001b[0;34m)\u001b[0m\u001b[0;34m\u001b[0m\u001b[0m\n\u001b[1;32m      3\u001b[0m \u001b[0;34m\u001b[0m\u001b[0m\n\u001b[1;32m      4\u001b[0m AGBPFiltered = L1_AGBPDekadal.filterDate(\n\u001b[1;32m      5\u001b[0m      \u001b[0mdata_start\u001b[0m\u001b[0;34m,\u001b[0m\u001b[0;34m\u001b[0m\u001b[0m\n",
      "\u001b[0;31mNameError\u001b[0m: name 'datetime' is not defined"
     ]
    }
   ],
   "source": [
    "data_start = datetime.datetime(2015, 1, 1)\n",
    "data_end = datetime.datetime(2015, 3, 30)\n",
    "\n",
    "AGBPFiltered = L1_AGBPDekadal.filterDate(\n",
    "     data_start,\n",
    "     data_end)\n",
    "\n",
    "AETFiltered = AET250.filterDate(\n",
    "      data_start,\n",
    "      data_end)\n",
    "\n",
    "# Get the number of images.\n",
    "count_agbp = AGBPFiltered.size().getInfo();\n",
    "count_aet = AETFiltered.size().getInfo();\n",
    "print('agbp: {} aet: {} '.format(count_agbp,count_aet))\n",
    "\n",
    "wbpm_calc = genera_wbpm(AGBPFiltered,AETFiltered)\n",
    "\n",
    "nomeCountry = 'Benin'\n",
    "justCountry = countries.filter(ee.Filter.eq('Country', nomeCountry))\n",
    "raster_tagliato = wbpm_calc.clip(justCountry)\n",
    "cutPoly = justCountry.geometry()\n",
    "cutBoundingBox = cutPoly.bounds(1)\n",
    "regione_paese = ee.Geometry(cutPoly.getInfo()).toGeoJSONString()\n",
    "\n",
    "#scala = wbpm_calc.projection().nominalScale().getInfo()\n",
    "#visualizzazione = vizualize_image(wbpm_calc,regione_paese,scala)\n",
    "\n",
    "#Image(url=visualizzazione)"
   ]
  },
  {
   "cell_type": "code",
   "execution_count": null,
   "metadata": {
    "collapsed": false,
    "deletable": true,
    "editable": true
   },
   "outputs": [],
   "source": [
    "country_stats = wbpm_calc.reduceRegion(\n",
    "    reducer = ee.Reducer.mean(),\n",
    "    geometry = cutPoly,\n",
    "    scale = scala,\n",
    "    maxPixels = 1e9\n",
    ")\n",
    "print country_stats.getInfo()"
   ]
  },
  {
   "cell_type": "code",
   "execution_count": null,
   "metadata": {
    "collapsed": false,
    "deletable": true,
    "editable": true
   },
   "outputs": [],
   "source": [
    "benin_histo = wbpm_calc.reduceRegion(\n",
    "    reducer = ee.Reducer.histogram(10),\n",
    "    geometry = cutPoly,\n",
    "    scale = scala,\n",
    "    maxPixels = 1e9\n",
    ")\n",
    "#benin_histo.getInfo()"
   ]
  },
  {
   "cell_type": "code",
   "execution_count": null,
   "metadata": {
    "collapsed": false,
    "deletable": true,
    "editable": true
   },
   "outputs": [],
   "source": [
    "benin_freq_histo = wbpm_calc.reduceRegion(\n",
    "    reducer = ee.Reducer.frequencyHistogram(),\n",
    "    geometry = cutPoly,\n",
    "    scale = scala,\n",
    "    maxPixels = 1e9\n",
    ")\n",
    "#benin_freq_histo.getInfo()"
   ]
  },
  {
   "cell_type": "code",
   "execution_count": null,
   "metadata": {
    "collapsed": false,
    "deletable": true,
    "editable": true
   },
   "outputs": [],
   "source": [
    "cutBoundingBox = cutPoly.bounds(1)\n",
    "cutBoundingBox.getInfo()"
   ]
  },
  {
   "cell_type": "markdown",
   "metadata": {
    "deletable": true,
    "editable": true
   },
   "source": [
    "# Statistiche Evapotranspiration (TimeSerie) per paese e bacino per periodo "
   ]
  },
  {
   "cell_type": "code",
   "execution_count": null,
   "metadata": {
    "collapsed": false,
    "deletable": true,
    "editable": true
   },
   "outputs": [],
   "source": [
    "nomeCountry = 'Kenya'\n",
    "justCountry = countries.filter(ee.Filter.eq('Country', nomeCountry))\n",
    "cutPoly = justCountry.geometry() \n",
    "cutBoundingBox = cutPoly.bounds(1)\n",
    "regione_paese = ee.Geometry(cutPoly.getInfo()).toGeoJSONString()\n",
    "centroid = justCountry.geometry().centroid()\n",
    "data_start = datetime.datetime(2015, 1, 1)\n",
    "data_end = datetime.datetime(2015, 6, 30)\n",
    "\n",
    "ETaCollection_filtered = ETaCollection.filterDate(data_start,data_end).filterBounds(cutBoundingBox)"
   ]
  },
  {
   "cell_type": "code",
   "execution_count": null,
   "metadata": {
    "collapsed": false,
    "deletable": true,
    "editable": true
   },
   "outputs": [],
   "source": [
    "def getMean(img):\n",
    "    return img.reduceRegions(cutBoundingBox, \n",
    "                             ee.Reducer.mean(),\n",
    "                             200)\n",
    "ans = ee.FeatureCollection(ETaCollection_filtered.map(getMean)).flatten().aggregate_array('.all').getInfo()"
   ]
  },
  {
   "cell_type": "code",
   "execution_count": null,
   "metadata": {
    "collapsed": false,
    "deletable": true,
    "editable": true
   },
   "outputs": [],
   "source": [
    "x_agbp = [x['properties']['mean'] for x in ans]\n",
    "print x_agbp\n",
    "labels_agbp = [x['id'][:8] for x in ans]\n",
    "lables_data = [datetime.datetime.strptime(label,\"%Y%m%d\").strftime('%Y-%m-%d') for label in labels_agbp]"
   ]
  },
  {
   "cell_type": "code",
   "execution_count": null,
   "metadata": {
    "collapsed": false,
    "deletable": true,
    "editable": true
   },
   "outputs": [],
   "source": [
    "plt.plot(x_agbp)\n",
    "plt.xticks(range(len(labels_agbp)), lables_data, rotation= 90)\n",
    "plt.show()"
   ]
  },
  {
   "cell_type": "code",
   "execution_count": null,
   "metadata": {
    "collapsed": true
   },
   "outputs": [],
   "source": []
  }
 ],
 "metadata": {
  "kernelspec": {
   "display_name": "Python 2",
   "language": "python",
   "name": "python2"
  },
  "language_info": {
   "codemirror_mode": {
    "name": "ipython",
    "version": 2
   },
   "file_extension": ".py",
   "mimetype": "text/x-python",
   "name": "python",
   "nbconvert_exporter": "python",
   "pygments_lexer": "ipython2",
   "version": "2.7.12"
  }
 },
 "nbformat": 4,
 "nbformat_minor": 2
}
