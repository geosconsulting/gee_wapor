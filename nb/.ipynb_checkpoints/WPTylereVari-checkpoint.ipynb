{
 "cells": [
  {
   "cell_type": "code",
   "execution_count": 42,
   "metadata": {
    "collapsed": false,
    "deletable": true,
    "editable": true
   },
   "outputs": [],
   "source": [
    "%matplotlib inline\n",
    "\n",
    "import ee\n",
    "\n",
    "%matplotlib inline\n",
    "\n",
    "import datetime\n",
    "import matplotlib.pyplot as plt\n",
    "import numpy as np\n",
    "\n",
    "from IPython.display import display"
   ]
  },
  {
   "cell_type": "code",
   "execution_count": 43,
   "metadata": {
    "collapsed": false,
    "deletable": true,
    "editable": true
   },
   "outputs": [],
   "source": [
    "ee.Initialize()\n",
    "L1_AGBPSeasonals = ee.ImageCollection(\"projects/fao-wapor/L1_AGBP\")\n",
    "ETaCollection = ee.ImageCollection(\"projects/fao-wapor/L1_AET\")\n",
    "AET250 = ee.ImageCollection(\"users/lpeiserfao/AET250\")"
   ]
  },
  {
   "cell_type": "code",
   "execution_count": 44,
   "metadata": {
    "collapsed": false,
    "deletable": true,
    "editable": true
   },
   "outputs": [],
   "source": [
    "region = [[-25.0, -37.0], [60.0, -41.0], [58.0, 39.0], [-31.0, 38.0], [-25.0, -37.0]]"
   ]
  },
  {
   "cell_type": "code",
   "execution_count": 45,
   "metadata": {
    "collapsed": false,
    "deletable": true,
    "editable": true
   },
   "outputs": [],
   "source": [
    "L1_AGBPSeasonalMasked =L1_AGBPSeasonals.map(lambda lista: lista.updateMask(lista.gte(0)))\n",
    "L1_AGBPSummedYearly = L1_AGBPSeasonalMasked.sum(); "
   ]
  },
  {
   "cell_type": "code",
   "execution_count": 46,
   "metadata": {
    "collapsed": false,
    "deletable": true,
    "editable": true
   },
   "outputs": [],
   "source": [
    "ETaColl1 = AET250.map(lambda immagine: immagine.updateMask(immagine.lt(254) and (immagine.gt(0)))) "
   ]
  },
  {
   "cell_type": "code",
   "execution_count": 47,
   "metadata": {
    "collapsed": false,
    "deletable": true,
    "editable": true
   },
   "outputs": [],
   "source": [
    "ETaColl2 = ETaColl1.map(lambda immagine: immagine.addBands(immagine.metadata('days_in_dk')));"
   ]
  },
  {
   "cell_type": "code",
   "execution_count": 48,
   "metadata": {
    "collapsed": false,
    "deletable": true,
    "editable": true
   },
   "outputs": [],
   "source": [
    "ETaColl3 = ETaColl2.map(lambda immagine: immagine.select('b1').divide(10).multiply(immagine.select('days_in_dk'))).sum()"
   ]
  },
  {
   "cell_type": "code",
   "execution_count": 49,
   "metadata": {
    "collapsed": true,
    "deletable": true,
    "editable": true
   },
   "outputs": [],
   "source": [
    "ETaTotm3 = ETaColl3.multiply(10)"
   ]
  },
  {
   "cell_type": "code",
   "execution_count": 50,
   "metadata": {
    "collapsed": false,
    "deletable": true,
    "editable": true
   },
   "outputs": [],
   "source": [
    "WPbm = L1_AGBPSummedYearly.divide(ETaTotm3)"
   ]
  },
  {
   "cell_type": "code",
   "execution_count": 51,
   "metadata": {
    "collapsed": false
   },
   "outputs": [],
   "source": [
    "xBand = 'time'\n",
    "yBandList = [    \n",
    "    'B1',\n",
    "     u'B2',     \n",
    "     u'B3',\n",
    "     u'B4',\n",
    "     u'B5',\n",
    "     u'B7',\n",
    "   # '10',\n",
    "   #u'20',\n",
    "   #u'30',\n",
    "   #u'40',\n",
    "   #u'50',\n",
    "   #u'61',\n",
    "   #u'62',\n",
    "   #u'70',\n",
    "   #u'80',\n",
    "   ]\n",
    "startTime = datetime.datetime(2000, 1, 1)\n",
    "endTime = datetime.datetime(2004, 1, 1)"
   ]
  },
  {
   "cell_type": "code",
   "execution_count": 52,
   "metadata": {
    "collapsed": false
   },
   "outputs": [],
   "source": [
    "collection = ee.ImageCollection('LANDSAT/LE7_SR').filterDate(startTime, endTime)\n",
    "point = {'type':'Point', 'coordinates':[ -116.88629,36.56122]};  # death valley (should be stable)\n",
    "info = collection.getRegion(point,500).getInfo()"
   ]
  },
  {
   "cell_type": "code",
   "execution_count": 53,
   "metadata": {
    "collapsed": true
   },
   "outputs": [],
   "source": [
    "# extract the header column names\n",
    "header = info[0]\n",
    "\n",
    "# create a Numpy array of the data\n",
    "data = array(info[1:])"
   ]
  },
  {
   "cell_type": "code",
   "execution_count": 54,
   "metadata": {
    "collapsed": false
   },
   "outputs": [],
   "source": [
    "#header"
   ]
  },
  {
   "cell_type": "code",
   "execution_count": 55,
   "metadata": {
    "collapsed": false
   },
   "outputs": [],
   "source": [
    "# extract the time information\n",
    "iTime = header.index('time')\n",
    "# convert to Python datetime objects\n",
    "time = [datetime.datetime.fromtimestamp(i/1000) for i in (data[0:,iTime].astype(long))]"
   ]
  },
  {
   "cell_type": "code",
   "execution_count": 56,
   "metadata": {
    "collapsed": false
   },
   "outputs": [],
   "source": [
    "iBands = [header.index(b) for b in yBandList]\n",
    "yData = data[0:,iBands].astype(np.float)"
   ]
  },
  {
   "cell_type": "code",
   "execution_count": 57,
   "metadata": {
    "collapsed": true
   },
   "outputs": [],
   "source": [
    "band3 = yData[:,2]\n",
    "band4 = yData[:,3]\n",
    "ndvi = (band4 - band3) / (band4 + band3)"
   ]
  },
  {
   "cell_type": "code",
   "execution_count": 58,
   "metadata": {
    "collapsed": false
   },
   "outputs": [
    {
     "data": {
      "image/png": "[encoded data removed]",
      "text/plain": [
       "<matplotlib.figure.Figure at 0xa49c39ac>"
      ]
     },
     "metadata": {},
     "output_type": "display_data"
    }
   ],
   "source": [
    "# matplotlib date format object\n",
    "\n",
    "fig = figure(figsize=(12,8), dpi=80)\n",
    "\n",
    "# plot the band values\n",
    "ax1 = fig.add_subplot(211)\n",
    "ax1.plot(time, yData[:,2], 'o', color=\"red\", label=\"Band 3\")\n",
    "ax1.plot(time, yData[:,3], 'o', color=\"magenta\",  label=\"Band 4\")\n",
    "ax1.legend(loc='best')\n",
    "ax1.grid(True)\n",
    "\n",
    "#plt.title('Band values as a function of time')\n",
    "ax1.set_ylabel('Band Values')\n",
    "\n",
    "# plot NDVI\n",
    "ax2 = fig.add_subplot(212, sharex=ax1)\n",
    "ax2.plot(time, ndvi, 'o', color=\"black\", label=\"NDVI\")\n",
    "ax2.grid(True)\n",
    "start, end = ax2.get_xlim()\n",
    "ax2.xaxis.set_ticks(np.arange(start, end, 64.5))\n",
    "\n",
    "# Format the ticks.\n",
    "years    = mdates.YearLocator()   # every year\n",
    "months   = mdates.MonthLocator()  # every month\n",
    "yearsFmt = mdates.DateFormatter('%Y')\n",
    "\n",
    "ax2.set_ylabel('NDVI')\n",
    "\n",
    "ax2.xaxis.set_major_locator(years)\n",
    "ax2.xaxis.set_major_formatter(yearsFmt)\n",
    "ax2.xaxis.set_minor_locator(months)"
   ]
  },
  {
   "cell_type": "code",
   "execution_count": 59,
   "metadata": {
    "collapsed": false
   },
   "outputs": [
    {
     "data": {
      "text/plain": [
       "array([730122, 730138, 730154, 730186, 730202, 730218, 730234, 730250,\n",
       "       730266, 730282, 730298, 730314, 730330, 730346, 730362, 730378,\n",
       "       730394, 730410, 730426, 730442, 730458, 730474, 730490, 730506,\n",
       "       730522, 730538, 730554, 730570, 730586, 730602, 730618, 730634,\n",
       "       730650, 730666, 730682, 730698, 730714, 730730, 730746, 730762,\n",
       "       730778, 730794, 730810, 730826, 730842, 730858, 730874, 730890,\n",
       "       730906, 730922, 730938, 730954, 730970, 730986, 731002, 731018,\n",
       "       731034, 731050, 731066, 731082, 731098, 731114, 731130, 731146,\n",
       "       731162, 731178, 731194, 731210, 731226, 731242, 731274, 731290,\n",
       "       731306, 731322, 731338, 731354, 731418, 731434, 731450, 731482,\n",
       "       731498, 731514, 731530, 731546, 731562, 731578, 730129, 730145,\n",
       "       730161, 730177, 730193, 730209, 730225, 730241, 730257, 730273,\n",
       "       730289, 730305, 730321, 730337, 730353, 730369, 730385, 730401,\n",
       "       730417, 730433, 730449, 730465, 730481, 730497, 730513, 730545,\n",
       "       730561, 730577, 730593, 730609, 730625, 730641, 730657, 730673,\n",
       "       730689, 730705, 730721, 730737, 730753, 730769, 730785, 730801,\n",
       "       730833, 730849, 730865, 730881, 730897, 730913, 730929, 730945,\n",
       "       730961, 730977, 730993, 731009, 731025, 731041, 731057, 731073,\n",
       "       731089, 731105, 731121, 731137, 731153, 731169, 731185, 731201,\n",
       "       731217, 731233, 731249, 731265, 731281, 731297, 731313, 731329,\n",
       "       731345, 731361, 731425, 731441, 731457, 731489, 731505, 731521,\n",
       "       731537, 731553, 731569, 730129, 730145, 730161, 730177, 730193,\n",
       "       730209, 730225, 730241, 730257, 730273, 730289, 730305, 730321,\n",
       "       730337, 730353, 730369, 730385, 730401, 730417, 730433, 730449,\n",
       "       730465, 730481, 730497, 730513, 730529, 730545, 730561, 730577,\n",
       "       730593, 730609, 730625, 730641, 730657, 730673, 730689, 730705,\n",
       "       730721, 730737, 730753, 730769, 730785, 730801, 730817, 730833,\n",
       "       730849, 730865, 730881, 730897, 730913, 730929, 730945, 730961,\n",
       "       730977, 730993, 731009, 731025, 731041, 731057, 731073, 731089,\n",
       "       731105, 731121, 731137, 731153, 731169, 731185, 731201, 731217,\n",
       "       731233, 731249, 731265, 731281, 731297, 731313, 731329, 731345,\n",
       "       731361, 731425, 731441, 731457, 731489, 731505, 731521, 731537,\n",
       "       731553, 731569])"
      ]
     },
     "execution_count": 59,
     "metadata": {},
     "output_type": "execute_result"
    }
   ],
   "source": [
    "# Convert the timestamp to a numpy array\n",
    "t = np.array([i.toordinal() for i in time])\n",
    "t"
   ]
  },
  {
   "cell_type": "code",
   "execution_count": 60,
   "metadata": {
    "collapsed": false
   },
   "outputs": [
    {
     "data": {
      "text/plain": [
       "array([  1.61763221e-06,  -1.11490820e+00])"
      ]
     },
     "execution_count": 60,
     "metadata": {},
     "output_type": "execute_result"
    }
   ],
   "source": [
    "A = array([ t, ones(len(t))]).transpose()\n",
    "b = ndvi\n",
    "x = linalg.lstsq(A,b)[0] # obtaining the parameters\n",
    "x"
   ]
  },
  {
   "cell_type": "code",
   "execution_count": 61,
   "metadata": {
    "collapsed": true
   },
   "outputs": [],
   "source": [
    "b_hat = A.dot(x)"
   ]
  },
  {
   "cell_type": "code",
   "execution_count": 62,
   "metadata": {
    "collapsed": false
   },
   "outputs": [
    {
     "data": {
      "image/png": "[encoded data removed]",
      "text/plain": [
       "<matplotlib.figure.Figure at 0xa3789cec>"
      ]
     },
     "metadata": {},
     "output_type": "display_data"
    }
   ],
   "source": [
    "fig2 = figure(figsize=(12,4), dpi=80)\n",
    "plot(time,b_hat.transpose(),'r-',t,b,'o')\n",
    "fig2.fmt_xdata = mdates.DateFormatter('%Y-%m-%d')\n",
    "fig2.autofmt_xdate()"
   ]
  },
  {
   "cell_type": "code",
   "execution_count": 63,
   "metadata": {
    "collapsed": true
   },
   "outputs": [],
   "source": [
    "# Define a comparison time interval.\n",
    "testDateStart = datetime.datetime(2014, 1, 1)\n",
    "testDateEnd = datetime.datetime(2015, 1, 1)\n",
    "\n",
    "# Define a reference time interval.\n",
    "referenceDateStart = datetime.datetime(2000, 1, 1)\n",
    "referenceDateEnd = datetime.datetime(2014, 1, 1)\n",
    "\n",
    "# Define date range within year that is used for comparison.\n",
    "dayOfYearTarget = 10\n",
    "dayOfYearInterval = 8 # interval length in days \n",
    "\n",
    "dayOfYearStart = dayOfYearTarget - 0.5 * dayOfYearInterval\n",
    "dayOfYearEnd = dayOfYearTarget + 0.5 * dayOfYearInterval\n",
    "\n",
    "base_collection_ndvi = ee.ImageCollection('MCD43A4_NDVI')\n",
    "base_collection_ndsi = ee.ImageCollection('MCD43A4_NDSI')"
   ]
  },
  {
   "cell_type": "code",
   "execution_count": 64,
   "metadata": {
    "collapsed": true
   },
   "outputs": [],
   "source": [
    "# define the visualization parameters\n",
    "vizNdvi = {\n",
    "    'min': 0, 'max': 1,\n",
    "    'palette': ','.join(\n",
    "            [\"FFFFFF\",\"CE7E45\",\"DF923D\",\"F1B555\",\"FCD163\",\"99B718\",\"74A901\",\"66A000\",\"529400\",\n",
    "             \"3E8601\",\"207401\",\"056201\",\"004C00\",\"023B01\",\"012E01\",\"011D01\",\"011301\"])\n",
    "  }\n",
    "vizNdsi = {\n",
    "    'min': -1, 'max': 1,\n",
    "    'palette': 'FF0000,000000,0000FF'\n",
    "  }\n",
    "vizAnomaly = {\n",
    "    'min':-0.4, 'max':0.4, \n",
    "    'palette': ','.join(\n",
    "        [\"87000A\",\"7C3E28\",\"EC712C\",\"FABF45\",\"FFFFFF\",\"51FF78\",\"3DCF4C\",\"215229\",\"0B260B\"])\n",
    "  }\n",
    "thresholdAnomaly = 0.01 # suppresses the display of low values\n",
    "vizLandcover = {\n",
    "    'min':0, 'max':17,\n",
    "    'palette': ','.join([\n",
    "      'aec3d4', # water\n",
    "      '152106', '225129', '369b47', '30eb5b', '387242', # forest\n",
    "      '6a2325', 'c3aa69', 'b76031', 'd9903d', '91af40',  # shrub, grass, savanah\n",
    "      '111149', # wetlands\n",
    "      'cdb33b', # croplands\n",
    "      'cc0013', # urban\n",
    "      '33280d', # crop mosaic\n",
    "      'd7cdcc', # snow and ice\n",
    "      'f7e084', # barren\n",
    "      '6f6f6f'  # tundra\n",
    "    ])}"
   ]
  },
  {
   "cell_type": "code",
   "execution_count": 65,
   "metadata": {
    "collapsed": true
   },
   "outputs": [],
   "source": [
    "# create a land mask\n",
    "landcover = (ee.Image('MCD12Q1/MCD12Q1_005_2009_01_01')\n",
    "              .select('Land_Cover_Type_1'))\n",
    "landMask = landcover.neq(0)\n",
    "\n",
    "# create a agricultural area mask\n",
    "agMask = landcover.eq(12)\n",
    "\n",
    "# create a filter object that selects data based on the day-of-year\n",
    "dayOfYearFilter = ee.Filter(\n",
    "    ee.Filter.calendarRange(dayOfYearStart, dayOfYearEnd, 'day_of_year')\n",
    "  )\n",
    "\n",
    "# target collection\n",
    "test_collection = (base_collection_ndvi\n",
    "    .filterDate(testDateStart, testDateEnd)\n",
    "    .filter(dayOfYearFilter))\n",
    "\n",
    "# target collection - NDSI\n",
    "test_collection_ndsi = (base_collection_ndsi\n",
    "    .filterDate(testDateStart, testDateEnd)\n",
    "    .filter(dayOfYearFilter))\n",
    "\n",
    "# reference collection\n",
    "reference_collection = (base_collection_ndvi\n",
    "    .filterDate(referenceDateStart, referenceDateEnd)\n",
    "    .filter(dayOfYearFilter))\n",
    "\n",
    "anomaly = test_collection.median().subtract(reference_collection.median())\n",
    "\n",
    "# Mask out non-agricultural areas, and snowy areas (NDSI>0)\n",
    "#mask = agMask.and(test_collection_ndsi.median().lte(0))\n",
    "mask = test_collection_ndsi.median().lte(0)"
   ]
  },
  {
   "cell_type": "code",
   "execution_count": 72,
   "metadata": {
    "collapsed": false
   },
   "outputs": [
    {
     "data": {
      "application/javascript": [
       "\n",
       "require([\"widgets/js/widget\"], function(WidgetManager){\n",
       "    var maps = [];\n",
       "    \n",
       "    // Define the GoogleMapsView\n",
       "    var GoogleMapsView = IPython.DOMWidgetView.extend({\n",
       "        \n",
       "        render: function() {\n",
       "            // Resize widget element to be 100% wide\n",
       "            this.$el.css('width', '100%');\n",
       "\n",
       "            // iframe source;  just enough to load Google Maps and let us poll whether initialization is complete\n",
       "            var src='<html style=\"height:100%\"><head>' +\n",
       "                '<scr'+'ipt src=\"http://maps.googleapis.com/maps/api/js?sensor=false\"></scr'+'ipt>' +\n",
       "                '<scr'+'ipt>google.maps.event.addDomListener(window,\"load\",function(){ready=true});</scr'+'ipt>' +\n",
       "                '</head>' +\n",
       "                '<body style=\"height:100%; margin:0px; padding:0px\"></body></html>';\n",
       "            \n",
       "            // Create the Google Maps container element.\n",
       "            this.$iframe = $('<iframe />')\n",
       "                .css('width', '100%')\n",
       "                .css('height', '300px')\n",
       "                .attr('srcdoc', src)\n",
       "                .appendTo(this.$el);\n",
       "                        \n",
       "            var self = this; // hold onto this for initMapWhenReady\n",
       "\n",
       "            // Wait until maps library has finished loading in iframe, then create map\n",
       "            function initMapWhenReady() {\n",
       "                // Iframe document and window\n",
       "                var doc = self.$iframe[0].contentDocument;\n",
       "                var win = self.$iframe[0].contentWindow;\n",
       "                if (!win || !win.ready) {\n",
       "                    // Maps library not yet loaded;  try again soon\n",
       "                    setTimeout(initMapWhenReady, 20);\n",
       "                    return;\n",
       "                }\n",
       "\n",
       "                // Maps library finished loading.  Build map now.\n",
       "                var mapOptions = {\n",
       "                    center: new win.google.maps.LatLng(self.model.get('lat'), self.model.get('lng')),\n",
       "                    zoom: self.model.get('zoom')\n",
       "                };\n",
       "                var mapDiv = $('<div />')\n",
       "                    .css('width', '100%')\n",
       "                    .css('height', '100%')\n",
       "                    .appendTo($(doc.body));\n",
       "                self.map = new win.google.maps.Map(mapDiv[0], mapOptions);\n",
       "                \n",
       "                \n",
       "                // Add an event listeners for user panning, zooming, and resizing map\n",
       "                // TODO(rsargent): Bind self across all methods, and save some plumbing here\n",
       "                win.google.maps.event.addListener(self.map, 'bounds_changed', function () {\n",
       "                    self.handleBoundsChanged();\n",
       "                });\n",
       "                \n",
       "                self.initializeLayersControl();\n",
       "            }\n",
       "            initMapWhenReady();\n",
       "        },\n",
       "        \n",
       "        LayersControl: function(widget, controlDiv, map) {\n",
       "            var win = widget.$iframe[0].contentWindow;\n",
       "            var chicago = new win.google.maps.LatLng(41.850033, -87.6500523);\n",
       "\n",
       "            // Set CSS styles for the DIV containing the control\n",
       "            // Setting padding to 5 px will offset the control\n",
       "            // from the edge of the map.\n",
       "            controlDiv.style.padding = '5px';\n",
       "\n",
       "            // Set CSS for the control border.\n",
       "            var $controlUI = $('<div />')\n",
       "                .css('backgroundColor', 'white')\n",
       "                .css('borderStyle', 'solid')\n",
       "                .css('borderWidth', '1px')\n",
       "                .css('cursor', 'pointer')\n",
       "                .css('textAlign', 'center')\n",
       "                .appendTo($(controlDiv));\n",
       "            \n",
       "            // Set CSS for the control interior.\n",
       "            var $controlContents = $('<div />')\n",
       "                .css('fontFamily', 'Arial,sans-serif')\n",
       "                .css('fontSize', '12px')\n",
       "                .css('paddingLeft', '4px')\n",
       "                .css('paddingRight', '4px')\n",
       "                .css('paddingTop', '0px')\n",
       "                .css('paddingBottom', '0px')\n",
       "                .appendTo($controlUI);\n",
       "            \n",
       "            this.$controlTable = $('<table />')\n",
       "                .append($('<tr><td colspan=2>Layers</td></tr>'))\n",
       "                .appendTo($controlContents);\n",
       "        },\n",
       "\n",
       "        initializeLayersControl: function() {\n",
       "            var doc = this.$iframe[0].contentDocument;\n",
       "            var win = this.$iframe[0].contentWindow;\n",
       "\n",
       "            // Create the DIV to hold the control and call the LayersControl() constructor\n",
       "            // passing in this DIV.\n",
       "    \n",
       "            var layersControlDiv = document.createElement('div');\n",
       "            this.layersControl = new this.LayersControl(this, layersControlDiv, this.map);\n",
       "\n",
       "            layersControlDiv.index = 1;\n",
       "            this.map.controls[win.google.maps.ControlPosition.TOP_RIGHT].push(layersControlDiv);\n",
       "        },\n",
       "        \n",
       "        // Map geometry changed (pan, zoom, resize)\n",
       "        handleBoundsChanged: function() {\n",
       "            this.model.set('lng', this.map.getCenter().lng());\n",
       "            this.model.set('lat', this.map.getCenter().lat());\n",
       "            this.model.set('zoom', this.map.getZoom());\n",
       "            var bounds = this.map.getBounds();\n",
       "            var playgroundCompatible = [bounds.getSouthWest().lng(), bounds.getSouthWest().lat(),\n",
       "                                        bounds.getNorthEast().lng(), bounds.getNorthEast().lat()];\n",
       "            this.model.set('bounds', playgroundCompatible);\n",
       "            this.touch();\n",
       "        },\n",
       "        \n",
       "        // Receive custom messages from Python backend\n",
       "        on_msg: function(msg) {\n",
       "            var win = this.$iframe[0].contentWindow;\n",
       "            if (msg.command == 'addLayer') {\n",
       "                this.addLayer(msg.mapid, msg.token, msg.name, msg.visible);\n",
       "            } else if (msg.command == 'center') {\n",
       "                this.map.setCenter(new win.google.maps.LatLng(msg.lat, msg.lng));\n",
       "                if (msg.zoom !== null) {\n",
       "                    this.map.setZoom(msg.zoom);\n",
       "                }\n",
       "            }\n",
       "        },\n",
       "        \n",
       "        // Add an Earth Engine layer\n",
       "        addLayer: function(mapid, token, name, visible) {\n",
       "            var win = this.$iframe[0].contentWindow;\n",
       "            var eeMapOptions = {\n",
       "                getTileUrl: function(tile, zoom) {\n",
       "                    var url = ['https://earthengine.googleapis.com/map',\n",
       "                               mapid, zoom, tile.x, tile.y].join(\"/\");\n",
       "                    url += '?token=' + token\n",
       "                    return url;\n",
       "                },\n",
       "                tileSize: new win.google.maps.Size(256, 256),\n",
       "                opacity: visible ? 1.0 : 0.0,\n",
       "            };\n",
       "            \n",
       "            // Create the overlay map type\n",
       "            var mapType = new win.google.maps.ImageMapType(eeMapOptions);\n",
       "                \n",
       "            // Overlay the Earth Engine generated layer\n",
       "            this.map.overlayMapTypes.push(mapType);\n",
       "\n",
       "            // Update layer visibility control\n",
       "            var maxSlider = 100;\n",
       "            \n",
       "            function updateOpacity() {\n",
       "                mapType.setOpacity($checkbox[0].checked ? $slider[0].value / 100.0 : 0);\n",
       "            }\n",
       "            \n",
       "            var $checkbox = $('<input type=\"checkbox\">')\n",
       "                .prop('checked', visible)\n",
       "                .change(updateOpacity);\n",
       "            \n",
       "            var $slider = $('<input type=\"range\" />')\n",
       "                .prop('min', 0)\n",
       "                .prop('max', maxSlider)\n",
       "                .prop('value', maxSlider)\n",
       "                .css('width', '60px')\n",
       "                .on('input', updateOpacity);\n",
       "\n",
       "            // If user doesn't specify a layer name, create a default\n",
       "            if (name === null) {\n",
       "                name = 'Layer ' + this.map.overlayMapTypes.length;\n",
       "            }\n",
       "            \n",
       "            var $row = $('<tr />');\n",
       "            $('<td align=\"left\" />').append($checkbox).append(name).appendTo($row);\n",
       "            $('<td />').append($slider).appendTo($row);\n",
       "\n",
       "            this.layersControl.$controlTable.append($row);\n",
       "        }\n",
       "    });\n",
       "    \n",
       "    // Register the GoogleMapsView with the widget manager.\n",
       "    WidgetManager.register_widget_view('GoogleMapsView', GoogleMapsView);\n",
       "});"
      ],
      "text/plain": [
       "<IPython.core.display.Javascript object>"
      ]
     },
     "metadata": {},
     "output_type": "display_data"
    }
   ],
   "source": [
    "%run 'define_google_maps_interactive_widget.ipynb'"
   ]
  },
  {
   "cell_type": "code",
   "execution_count": 73,
   "metadata": {
    "collapsed": false
   },
   "outputs": [
    {
     "ename": "AttributeError",
     "evalue": "'NoneType' object has no attribute 'send'",
     "output_type": "error",
     "traceback": [
      "\u001b[0;31m---------------------------------------------------------------------------\u001b[0m",
      "\u001b[0;31mAttributeError\u001b[0m                            Traceback (most recent call last)",
      "\u001b[0;32m/usr/local/lib/python2.7/dist-packages/IPython/core/formatters.pyc\u001b[0m in \u001b[0;36m__call__\u001b[0;34m(self, obj)\u001b[0m\n\u001b[1;32m    880\u001b[0m             \u001b[0mmethod\u001b[0m \u001b[0;34m=\u001b[0m \u001b[0mget_real_method\u001b[0m\u001b[0;34m(\u001b[0m\u001b[0mobj\u001b[0m\u001b[0;34m,\u001b[0m \u001b[0mself\u001b[0m\u001b[0;34m.\u001b[0m\u001b[0mprint_method\u001b[0m\u001b[0;34m)\u001b[0m\u001b[0;34m\u001b[0m\u001b[0m\n\u001b[1;32m    881\u001b[0m             \u001b[0;32mif\u001b[0m \u001b[0mmethod\u001b[0m \u001b[0;32mis\u001b[0m \u001b[0;32mnot\u001b[0m \u001b[0mNone\u001b[0m\u001b[0;34m:\u001b[0m\u001b[0;34m\u001b[0m\u001b[0m\n\u001b[0;32m--> 882\u001b[0;31m                 \u001b[0mmethod\u001b[0m\u001b[0;34m(\u001b[0m\u001b[0;34m)\u001b[0m\u001b[0;34m\u001b[0m\u001b[0m\n\u001b[0m\u001b[1;32m    883\u001b[0m                 \u001b[0;32mreturn\u001b[0m \u001b[0mTrue\u001b[0m\u001b[0;34m\u001b[0m\u001b[0m\n\u001b[1;32m    884\u001b[0m \u001b[0;34m\u001b[0m\u001b[0m\n",
      "\u001b[0;32m/usr/local/lib/python2.7/dist-packages/ipywidgets/widgets/widget.pyc\u001b[0m in \u001b[0;36m_ipython_display_\u001b[0;34m(self, **kwargs)\u001b[0m\n\u001b[1;32m    480\u001b[0m                 \u001b[0mloud_error\u001b[0m\u001b[0;34m(\u001b[0m\u001b[0;34m'The installed widget Javascript is the wrong version.'\u001b[0m\u001b[0;34m)\u001b[0m\u001b[0;34m\u001b[0m\u001b[0m\n\u001b[1;32m    481\u001b[0m \u001b[0;34m\u001b[0m\u001b[0m\n\u001b[0;32m--> 482\u001b[0;31m             \u001b[0mself\u001b[0m\u001b[0;34m.\u001b[0m\u001b[0m_send\u001b[0m\u001b[0;34m(\u001b[0m\u001b[0;34m{\u001b[0m\u001b[0;34m\"method\"\u001b[0m\u001b[0;34m:\u001b[0m \u001b[0;34m\"display\"\u001b[0m\u001b[0;34m}\u001b[0m\u001b[0;34m)\u001b[0m\u001b[0;34m\u001b[0m\u001b[0m\n\u001b[0m\u001b[1;32m    483\u001b[0m             \u001b[0mself\u001b[0m\u001b[0;34m.\u001b[0m\u001b[0m_handle_displayed\u001b[0m\u001b[0;34m(\u001b[0m\u001b[0;34m**\u001b[0m\u001b[0mkwargs\u001b[0m\u001b[0;34m)\u001b[0m\u001b[0;34m\u001b[0m\u001b[0m\n\u001b[1;32m    484\u001b[0m \u001b[0;34m\u001b[0m\u001b[0m\n",
      "\u001b[0;32m/usr/local/lib/python2.7/dist-packages/ipywidgets/widgets/widget.pyc\u001b[0m in \u001b[0;36m_send\u001b[0;34m(self, msg, buffers)\u001b[0m\n\u001b[1;32m    485\u001b[0m     \u001b[0;32mdef\u001b[0m \u001b[0m_send\u001b[0m\u001b[0;34m(\u001b[0m\u001b[0mself\u001b[0m\u001b[0;34m,\u001b[0m \u001b[0mmsg\u001b[0m\u001b[0;34m,\u001b[0m \u001b[0mbuffers\u001b[0m\u001b[0;34m=\u001b[0m\u001b[0mNone\u001b[0m\u001b[0;34m)\u001b[0m\u001b[0;34m:\u001b[0m\u001b[0;34m\u001b[0m\u001b[0m\n\u001b[1;32m    486\u001b[0m         \u001b[0;34m\"\"\"Sends a message to the model in the front-end.\"\"\"\u001b[0m\u001b[0;34m\u001b[0m\u001b[0m\n\u001b[0;32m--> 487\u001b[0;31m         \u001b[0mself\u001b[0m\u001b[0;34m.\u001b[0m\u001b[0mcomm\u001b[0m\u001b[0;34m.\u001b[0m\u001b[0msend\u001b[0m\u001b[0;34m(\u001b[0m\u001b[0mdata\u001b[0m\u001b[0;34m=\u001b[0m\u001b[0mmsg\u001b[0m\u001b[0;34m,\u001b[0m \u001b[0mbuffers\u001b[0m\u001b[0;34m=\u001b[0m\u001b[0mbuffers\u001b[0m\u001b[0;34m)\u001b[0m\u001b[0;34m\u001b[0m\u001b[0m\n\u001b[0m\u001b[1;32m    488\u001b[0m \u001b[0;34m\u001b[0m\u001b[0m\n\u001b[1;32m    489\u001b[0m \u001b[0;34m\u001b[0m\u001b[0m\n",
      "\u001b[0;31mAttributeError\u001b[0m: 'NoneType' object has no attribute 'send'"
     ]
    },
    {
     "data": {
      "text/plain": [
       "<__main__.GoogleMapsWidget at 0xa4ab4d2c>"
      ]
     },
     "metadata": {},
     "output_type": "display_data"
    }
   ],
   "source": [
    "map = GoogleMapsWidget(lat=0, lng=0, zoom=2)\n",
    "display(map)"
   ]
  },
  {
   "cell_type": "code",
   "execution_count": 68,
   "metadata": {
    "collapsed": false
   },
   "outputs": [
    {
     "ename": "AttributeError",
     "evalue": "'NoneType' object has no attribute 'send'",
     "output_type": "error",
     "traceback": [
      "\u001b[0;31m---------------------------------------------------------------------------\u001b[0m",
      "\u001b[0;31mAttributeError\u001b[0m                            Traceback (most recent call last)",
      "\u001b[0;32m/usr/local/lib/python2.7/dist-packages/IPython/core/formatters.pyc\u001b[0m in \u001b[0;36m__call__\u001b[0;34m(self, obj)\u001b[0m\n\u001b[1;32m    880\u001b[0m             \u001b[0mmethod\u001b[0m \u001b[0;34m=\u001b[0m \u001b[0mget_real_method\u001b[0m\u001b[0;34m(\u001b[0m\u001b[0mobj\u001b[0m\u001b[0;34m,\u001b[0m \u001b[0mself\u001b[0m\u001b[0;34m.\u001b[0m\u001b[0mprint_method\u001b[0m\u001b[0;34m)\u001b[0m\u001b[0;34m\u001b[0m\u001b[0m\n\u001b[1;32m    881\u001b[0m             \u001b[0;32mif\u001b[0m \u001b[0mmethod\u001b[0m \u001b[0;32mis\u001b[0m \u001b[0;32mnot\u001b[0m \u001b[0mNone\u001b[0m\u001b[0;34m:\u001b[0m\u001b[0;34m\u001b[0m\u001b[0m\n\u001b[0;32m--> 882\u001b[0;31m                 \u001b[0mmethod\u001b[0m\u001b[0;34m(\u001b[0m\u001b[0;34m)\u001b[0m\u001b[0;34m\u001b[0m\u001b[0m\n\u001b[0m\u001b[1;32m    883\u001b[0m                 \u001b[0;32mreturn\u001b[0m \u001b[0mTrue\u001b[0m\u001b[0;34m\u001b[0m\u001b[0m\n\u001b[1;32m    884\u001b[0m \u001b[0;34m\u001b[0m\u001b[0m\n",
      "\u001b[0;32m/usr/local/lib/python2.7/dist-packages/ipywidgets/widgets/widget.pyc\u001b[0m in \u001b[0;36m_ipython_display_\u001b[0;34m(self, **kwargs)\u001b[0m\n\u001b[1;32m    480\u001b[0m                 \u001b[0mloud_error\u001b[0m\u001b[0;34m(\u001b[0m\u001b[0;34m'The installed widget Javascript is the wrong version.'\u001b[0m\u001b[0;34m)\u001b[0m\u001b[0;34m\u001b[0m\u001b[0m\n\u001b[1;32m    481\u001b[0m \u001b[0;34m\u001b[0m\u001b[0m\n\u001b[0;32m--> 482\u001b[0;31m             \u001b[0mself\u001b[0m\u001b[0;34m.\u001b[0m\u001b[0m_send\u001b[0m\u001b[0;34m(\u001b[0m\u001b[0;34m{\u001b[0m\u001b[0;34m\"method\"\u001b[0m\u001b[0;34m:\u001b[0m \u001b[0;34m\"display\"\u001b[0m\u001b[0;34m}\u001b[0m\u001b[0;34m)\u001b[0m\u001b[0;34m\u001b[0m\u001b[0m\n\u001b[0m\u001b[1;32m    483\u001b[0m             \u001b[0mself\u001b[0m\u001b[0;34m.\u001b[0m\u001b[0m_handle_displayed\u001b[0m\u001b[0;34m(\u001b[0m\u001b[0;34m**\u001b[0m\u001b[0mkwargs\u001b[0m\u001b[0;34m)\u001b[0m\u001b[0;34m\u001b[0m\u001b[0m\n\u001b[1;32m    484\u001b[0m \u001b[0;34m\u001b[0m\u001b[0m\n",
      "\u001b[0;32m/usr/local/lib/python2.7/dist-packages/ipywidgets/widgets/widget.pyc\u001b[0m in \u001b[0;36m_send\u001b[0;34m(self, msg, buffers)\u001b[0m\n\u001b[1;32m    485\u001b[0m     \u001b[0;32mdef\u001b[0m \u001b[0m_send\u001b[0m\u001b[0;34m(\u001b[0m\u001b[0mself\u001b[0m\u001b[0;34m,\u001b[0m \u001b[0mmsg\u001b[0m\u001b[0;34m,\u001b[0m \u001b[0mbuffers\u001b[0m\u001b[0;34m=\u001b[0m\u001b[0mNone\u001b[0m\u001b[0;34m)\u001b[0m\u001b[0;34m:\u001b[0m\u001b[0;34m\u001b[0m\u001b[0m\n\u001b[1;32m    486\u001b[0m         \u001b[0;34m\"\"\"Sends a message to the model in the front-end.\"\"\"\u001b[0m\u001b[0;34m\u001b[0m\u001b[0m\n\u001b[0;32m--> 487\u001b[0;31m         \u001b[0mself\u001b[0m\u001b[0;34m.\u001b[0m\u001b[0mcomm\u001b[0m\u001b[0;34m.\u001b[0m\u001b[0msend\u001b[0m\u001b[0;34m(\u001b[0m\u001b[0mdata\u001b[0m\u001b[0;34m=\u001b[0m\u001b[0mmsg\u001b[0m\u001b[0;34m,\u001b[0m \u001b[0mbuffers\u001b[0m\u001b[0;34m=\u001b[0m\u001b[0mbuffers\u001b[0m\u001b[0;34m)\u001b[0m\u001b[0;34m\u001b[0m\u001b[0m\n\u001b[0m\u001b[1;32m    488\u001b[0m \u001b[0;34m\u001b[0m\u001b[0m\n\u001b[1;32m    489\u001b[0m \u001b[0;34m\u001b[0m\u001b[0m\n",
      "\u001b[0;31mAttributeError\u001b[0m: 'NoneType' object has no attribute 'send'"
     ]
    },
    {
     "data": {
      "text/plain": [
       "<__main__.GoogleMapsWidget at 0xa4c0f5ac>"
      ]
     },
     "metadata": {},
     "output_type": "display_data"
    }
   ],
   "source": []
  },
  {
   "cell_type": "code",
   "execution_count": null,
   "metadata": {
    "collapsed": false
   },
   "outputs": [],
   "source": [
    "'''\n",
    "map.addLayer(\n",
    "    image=landcover,\n",
    "    vis_params=vizLandcover,           \n",
    "    name=\"landcover\",\n",
    "    visible=False)\n",
    "map.addLayer(\n",
    "    image=ee.Image(0),\n",
    "    vis_params={'palette':\"000000\", 'opacity':0.5},           \n",
    "    name=\"background\",\n",
    "    visible=True)\n",
    "map.addLayer(\n",
    "    image=reference_collection.median().mask(mask),\n",
    "    vis_params=vizNdvi,           \n",
    "    name=\"Median of Reference Collection\",\n",
    "    visible=False)\n",
    "map.addLayer(\n",
    "    test_collection.median().mask(mask),\n",
    "    vis_params=vizNdvi,           \n",
    "    name=\"Median of Test Collection\",\n",
    "    visible=False)\n",
    "map.addLayer(\n",
    "    test_collection.median().mask(mask),\n",
    "    vis_params=vizNdsi,           \n",
    "    name=\"Median of Test Collection NDSI\",\n",
    "    visible=False)\n",
    "map.addLayer(\n",
    "    anomaly.mask(anomaly.abs().gte(thresholdAnomaly).multiply(mask)),\n",
    "    vis_params=vizAnomaly,           \n",
    "    name=\"NDVI anomaly (test - reference)\",\n",
    "    visible=True)\n",
    "'''"
   ]
  },
  {
   "cell_type": "code",
   "execution_count": null,
   "metadata": {
    "collapsed": true
   },
   "outputs": [],
   "source": [
    "#import ee.mapclient\n",
    "#_REGION = [[-25.0, -37.0], [60.0, -41.0], [58.0, 39.0], [-31.0, 38.0],  [-25.0, -37.0]]\n",
    "#VisPar_WPbm = {\"opacity\": 0.85, \"bands\": \"b1\",\n",
    "#                            \"min\": 0, \"max\": 1.2,\n",
    "#                            \"palette\": \"bc170f,e97a1a,fff83a,9bff40,5cb326\",\n",
    "#                            \"region\": _REGION}\n",
    "# ee.mapclient.addToMap(WPbm, VisPar_WPbm, 'Annual biomass water productivity')\n",
    "# ee.mapclient.centerMap(17.75, 10.14, 4)"
   ]
  },
  {
   "cell_type": "code",
   "execution_count": null,
   "metadata": {
    "collapsed": false
   },
   "outputs": [],
   "source": []
  },
  {
   "cell_type": "code",
   "execution_count": null,
   "metadata": {
    "collapsed": false
   },
   "outputs": [],
   "source": []
  },
  {
   "cell_type": "code",
   "execution_count": null,
   "metadata": {
    "collapsed": true
   },
   "outputs": [],
   "source": []
  }
 ],
 "metadata": {
  "kernelspec": {
   "display_name": "Python 2",
   "language": "python",
   "name": "python2"
  },
  "language_info": {
   "codemirror_mode": {
    "name": "ipython",
    "version": 2
   },
   "file_extension": ".py",
   "mimetype": "text/x-python",
   "name": "python",
   "nbconvert_exporter": "python",
   "pygments_lexer": "ipython2",
   "version": "2.7.12"
  }
 },
 "nbformat": 4,
 "nbformat_minor": 2
}
