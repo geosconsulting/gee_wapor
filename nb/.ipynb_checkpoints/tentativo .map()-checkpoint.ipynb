{
 "cells": [
  {
   "cell_type": "code",
   "execution_count": 2,
   "metadata": {
    "collapsed": false,
    "deletable": true,
    "editable": true
   },
   "outputs": [
    {
     "name": "stdout",
     "output_type": "stream",
     "text": [
      "[u'B1', u'B2', u'B3', u'B4', u'B5', u'B6', u'B7', u'B8', u'B8A', u'B9', u'B10', u'B11', u'B12', u'QA10', u'QA20', u'QA60']\n",
      "105\n"
     ]
    },
    {
     "ename": "TypeError",
     "evalue": "argument 2 to map() must support iteration",
     "output_type": "error",
     "traceback": [
      "\u001b[0;31m---------------------------------------------------------------------------\u001b[0m",
      "\u001b[0;31mTypeError\u001b[0m                                 Traceback (most recent call last)",
      "\u001b[0;32m<ipython-input-2-8d43b8b8c309>\u001b[0m in \u001b[0;36m<module>\u001b[0;34m()\u001b[0m\n\u001b[1;32m     64\u001b[0m \u001b[0;34m\u001b[0m\u001b[0m\n\u001b[1;32m     65\u001b[0m \u001b[0;31m# map in python\u001b[0m\u001b[0;34m\u001b[0m\u001b[0;34m\u001b[0m\u001b[0m\n\u001b[0;32m---> 66\u001b[0;31m \u001b[0mimageIV1\u001b[0m \u001b[0;34m=\u001b[0m \u001b[0mee\u001b[0m\u001b[0;34m.\u001b[0m\u001b[0mImage\u001b[0m\u001b[0;34m(\u001b[0m\u001b[0mmap\u001b[0m\u001b[0;34m(\u001b[0m\u001b[0mDVI\u001b[0m\u001b[0;34m,\u001b[0m \u001b[0mcombi\u001b[0m\u001b[0;34m)\u001b[0m\u001b[0;34m)\u001b[0m\u001b[0;34m;\u001b[0m\u001b[0;34m\u001b[0m\u001b[0m\n\u001b[0m",
      "\u001b[0;31mTypeError\u001b[0m: argument 2 to map() must support iteration"
     ]
    }
   ],
   "source": [
    "\n",
    "#- import and initialize modules\n",
    "import ee\n",
    "import time\n",
    "import datetime\n",
    "ee.Initialize()\n",
    "\n",
    "#- functions \n",
    "# calculate combinations \n",
    "def k_combinations(variable, k):\n",
    "    if k > len(variable) or k <= 0:\n",
    "        return []\n",
    "    if k == len(variable):\n",
    "        return [variable]\n",
    "\n",
    "    if k == 1:\n",
    "        combs = []\n",
    "        for i in range(0, len(variable)):\n",
    "            combs.append([variable[i]])\n",
    "        return combs\n",
    "    combs = []\n",
    "    for i in range(0, len(variable) - k + 1):\n",
    "        head = variable[slice(i, i + 1)]\n",
    "        tailcombs = k_combinations(variable[(i + 1):], k - 1)\n",
    "        for j in range(0, len(tailcombs)):\n",
    "            combs.append(head+(tailcombs[j]))\n",
    "    return combs\n",
    "\n",
    "# functions to calculate normalized_difference, difference and ratio VIss\n",
    "def NDI(list):\n",
    "    # return image.select(list[1]).subtract(image.select(list[0])\\\n",
    "    # .divide(image.select(list[1]).add(image.select(list[0])))\\\n",
    "    # .rename('NDI_'+list[1]+'_'+list[0])\n",
    "        return ee.Image.normalizedDifference([list[1],list[0]]).rename('NDI_'+list[1]+'_'+list[0])\n",
    "    \n",
    "def DVI(list):\n",
    "    return image.select(list[1]).subtract(image.select(list[0])).rename('DVI_'+str(list[1])+'_'+str(list[0]))\n",
    "\n",
    "def RVI(list):\n",
    "    return image.select(list[1]).divide(image.select(list[0])).rename('RVI_'+list[1]+'_'+list[0])\n",
    "\n",
    "# load images\n",
    "collection = ee.ImageCollection('COPERNICUS/S2')\\\n",
    "  .filterDate('2015-12-01', '2016-05-03')\\\n",
    "  .filterBounds(ee.Geometry.Point(-5.182238,12.201028));\n",
    "  \n",
    "image= ee.Image(collection.first());\n",
    "\n",
    "#- Calculate VI \n",
    "names = image.bandNames()\n",
    "print names.getInfo()\n",
    "names = names.remove(names.get(0))\n",
    "\n",
    "#- calculate and display combinations  \n",
    "combi = k_combinations(names.getInfo(),2)\n",
    "numbercombi = len(combi)\n",
    "print numbercombi\n",
    "#combi = ee.List(combi)\n",
    "\n",
    "\n",
    "#- mapping over the list of band combinations\n",
    "# or should I use combi2?\n",
    "\n",
    "# imageIV = ee.Image(combi.map(NDI));\n",
    "# imageIV1 = ee.Image(combi.map(DVI));\n",
    "# imageIV2 = ee.Image(combi.map(RVI));\n",
    "\n",
    "# map in python\n",
    "imageIV1 = ee.Image(map(DVI, combi));\n"
   ]
  }
 ],
 "metadata": {
  "kernelspec": {
   "display_name": "Python 2",
   "language": "python",
   "name": "python2"
  },
  "language_info": {
   "codemirror_mode": {
    "name": "ipython",
    "version": 2
   },
   "file_extension": ".py",
   "mimetype": "text/x-python",
   "name": "python",
   "nbconvert_exporter": "python",
   "pygments_lexer": "ipython2",
   "version": "2.7.12"
  }
 },
 "nbformat": 4,
 "nbformat_minor": 2
}
