{
 "cells": [
  {
   "cell_type": "code",
   "execution_count": 1,
   "metadata": {
    "collapsed": true,
    "deletable": true,
    "editable": true
   },
   "outputs": [],
   "source": [
    "import ee\n",
    "from IPython import display\n",
    "from IPython.display import Image\n",
    "import math\n",
    "import matplotlib.pyplot as plt\n",
    "from osgeo import gdal\n",
    "import tempfile\n",
    "import urllib\n",
    "import zipfile\n",
    "from mpl_toolkits.basemap import Basemap\n",
    "import numpy as np\n",
    "import datetime"
   ]
  },
  {
   "cell_type": "code",
   "execution_count": 2,
   "metadata": {
    "collapsed": false,
    "deletable": true,
    "editable": true
   },
   "outputs": [],
   "source": [
    "ee.Initialize()\n",
    "\n",
    "# VETTORI\n",
    "countries = ee.FeatureCollection('ft:1tdSwUL7MVpOauSgRzqVTOwdfy17KDbw-1d9omPw')\n",
    "wsheds = ee.FeatureCollection('ft:1IXfrLpTHX4dtdj1LcNXjJADBB-d93rkdJ9acSEWK')\n",
    "\n",
    "# COLLEZIONI RASTER\n",
    "L1_AGBPSeasonals = ee.ImageCollection(\"projects/fao-wapor/L1_AGBP\")\n",
    "L1_AGBPDekadal = ee.ImageCollection(\"projects/fao-wapor/L1_AGBP250\")\n",
    "ETaCollection = ee.ImageCollection(\"projects/fao-wapor/L1_AET\")\n",
    "AET250 = ee.ImageCollection(\"users/lpeiserfao/AET250\")"
   ]
  },
  {
   "cell_type": "code",
   "execution_count": 3,
   "metadata": {
    "collapsed": false,
    "deletable": true,
    "editable": true
   },
   "outputs": [],
   "source": [
    "# AREA OF INTEREST\n",
    "region = [[-25.0, -40.0], [65.0, -40.0], [65.0, 40.0], [-30.0, 40.0], [-30.0, -40.0]]"
   ]
  },
  {
   "cell_type": "code",
   "execution_count": 4,
   "metadata": {
    "collapsed": true,
    "deletable": true,
    "editable": true
   },
   "outputs": [],
   "source": [
    "def genera_wbpm(agbp,aet):    \n",
    "    \n",
    "    L1_AGBPMasked = agbp.map(lambda lista: lista.updateMask(lista.gte(0)))\n",
    "    L1_AGBPSummed = L1_AGBPMasked.sum(); #.multiply(10); \n",
    "    ETaColl1 = aet.map(lambda immagine: immagine.updateMask(immagine.lt(254) and (immagine.gt(0)))) \n",
    "    ETaColl2 = ETaColl1.map(lambda immagine: immagine.addBands(immagine.metadata('days_in_dk')));\n",
    "    ETaColl3 = ETaColl2.map(lambda immagine: immagine.select('b1').divide(10).multiply(immagine.select('days_in_dk'))).sum()\n",
    "    ETaTotm3 = ETaColl3.multiply(10)\n",
    "    WPbm = L1_AGBPSummed.divide(ETaTotm3)\n",
    "    return WPbm"
   ]
  },
  {
   "cell_type": "code",
   "execution_count": 5,
   "metadata": {
    "collapsed": true,
    "deletable": true,
    "editable": true
   },
   "outputs": [],
   "source": [
    "def vizualize_image(wbpm,regione_paese,scala):    \n",
    "    visparams = {\"opacity\":1,\n",
    "             \"min\":0,\n",
    "             \"max\":1.2,\n",
    "             \"palette\":\"bc170f,e97a1a,fff83a,9bff40,5cb326\",\n",
    "             \"region\": regione_paese,\n",
    "             \"scale\" : scala}\n",
    "    \n",
    "    url_WPbm = wbpm.getThumbUrl(visparams)\n",
    "    return url_WPbm"
   ]
  },
  {
   "cell_type": "markdown",
   "metadata": {
    "deletable": true,
    "editable": true
   },
   "source": [
    "# Statistiche WPbm per paese e bacino per periodo "
   ]
  },
  {
   "cell_type": "code",
   "execution_count": 6,
   "metadata": {
    "collapsed": false,
    "deletable": true,
    "editable": true
   },
   "outputs": [
    {
     "name": "stdout",
     "output_type": "stream",
     "text": [
      "agbp: 15 aet: 9 \n"
     ]
    },
    {
     "data": {
      "text/html": [
       "<img src=\"https://earthengine.googleapis.com/api/thumb?thumbid=47ac567c10783a0210a9b2dc5f6ca127&token=70c64b5a374a780d64cc0b471c4ab264\"/>"
      ],
      "text/plain": [
       "<IPython.core.display.Image object>"
      ]
     },
     "execution_count": 6,
     "metadata": {},
     "output_type": "execute_result"
    }
   ],
   "source": [
    "data_start = datetime.datetime(2015, 1, 1)\n",
    "data_end = datetime.datetime(2015, 3, 30)\n",
    "\n",
    "AGBPFiltered = L1_AGBPDekadal.filterDate(\n",
    "     data_start,\n",
    "     data_end)\n",
    "\n",
    "AETFiltered = AET250.filterDate(\n",
    "      data_start,\n",
    "      data_end)\n",
    "\n",
    "# Get the number of images.\n",
    "count_agbp = AGBPFiltered.size().getInfo();\n",
    "count_aet = AETFiltered.size().getInfo();\n",
    "print('agbp: {} aet: {} '.format(count_agbp,count_aet))\n",
    "\n",
    "wbpm_calc = genera_wbpm(AGBPFiltered,AETFiltered)\n",
    "\n",
    "nomeCountry = 'Benin'\n",
    "justCountry = countries.filter(ee.Filter.eq('Country', nomeCountry))\n",
    "raster_tagliato = wbpm_calc.clip(justCountry)\n",
    "cutPoly = justCountry.geometry()\n",
    "cutBoundingBox = cutPoly.bounds(1)\n",
    "regione_paese = ee.Geometry(cutPoly.getInfo()).toGeoJSONString()\n",
    "\n",
    "scala = wbpm_calc.projection().nominalScale().getInfo()\n",
    "visualizzazione = vizualize_image(wbpm_calc,regione_paese,scala)\n",
    "Image(url=visualizzazione)"
   ]
  },
  {
   "cell_type": "code",
   "execution_count": 7,
   "metadata": {
    "collapsed": false,
    "deletable": true,
    "editable": true
   },
   "outputs": [
    {
     "name": "stdout",
     "output_type": "stream",
     "text": [
      "{u'b1': 0.030459171532817735}\n"
     ]
    }
   ],
   "source": [
    "country_stats = wbpm_calc.reduceRegion(\n",
    "    reducer = ee.Reducer.mean(),\n",
    "    geometry = cutPoly,\n",
    "    scale = scala,\n",
    "    maxPixels = 1e9\n",
    ")\n",
    "print country_stats.getInfo()"
   ]
  },
  {
   "cell_type": "code",
   "execution_count": 8,
   "metadata": {
    "collapsed": false,
    "deletable": true,
    "editable": true
   },
   "outputs": [],
   "source": [
    "benin_histo = wbpm_calc.reduceRegion(\n",
    "    reducer = ee.Reducer.histogram(10),\n",
    "    geometry = cutPoly,\n",
    "    scale = scala,\n",
    "    maxPixels = 1e9\n",
    ")\n",
    "#benin_histo.getInfo()"
   ]
  },
  {
   "cell_type": "code",
   "execution_count": 9,
   "metadata": {
    "collapsed": false,
    "deletable": true,
    "editable": true
   },
   "outputs": [],
   "source": [
    "benin_freq_histo = wbpm_calc.reduceRegion(\n",
    "    reducer = ee.Reducer.frequencyHistogram(),\n",
    "    geometry = cutPoly,\n",
    "    scale = scala,\n",
    "    maxPixels = 1e9\n",
    ")\n",
    "#benin_freq_histo.getInfo()"
   ]
  },
  {
   "cell_type": "code",
   "execution_count": 10,
   "metadata": {
    "collapsed": false,
    "deletable": true,
    "editable": true
   },
   "outputs": [
    {
     "data": {
      "text/plain": [
       "{u'coordinates': [[[0.7766665000000001, 6.210678999999974],\n",
       "   [3.8550000000000004, 6.210678999999974],\n",
       "   [3.8550000000000004, 12.393320000000024],\n",
       "   [0.7766665000000001, 12.393320000000024],\n",
       "   [0.7766665000000001, 6.210678999999974]]],\n",
       " u'geodesic': False,\n",
       " u'type': u'Polygon'}"
      ]
     },
     "execution_count": 10,
     "metadata": {},
     "output_type": "execute_result"
    }
   ],
   "source": [
    "cutBoundingBox = cutPoly.bounds(1)\n",
    "cutBoundingBox.getInfo()"
   ]
  },
  {
   "cell_type": "markdown",
   "metadata": {
    "deletable": true,
    "editable": true
   },
   "source": [
    "# Statistiche Evapotranspiration (TimeSerie) per paese e bacino per periodo "
   ]
  },
  {
   "cell_type": "code",
   "execution_count": 11,
   "metadata": {
    "collapsed": false,
    "deletable": true,
    "editable": true
   },
   "outputs": [],
   "source": [
    "nomeCountry = 'Sudan'\n",
    "justCountry = countries.filter(ee.Filter.eq('Country', nomeCountry))\n",
    "cutPoly = justCountry.geometry() \n",
    "cutBoundingBox = cutPoly.bounds(1)\n",
    "regione_paese = ee.Geometry(cutPoly.getInfo()).toGeoJSONString()\n",
    "centroid = justCountry.geometry().centroid()\n",
    "data_start = datetime.datetime(2015, 1, 1)\n",
    "data_end = datetime.datetime(2015, 6, 30)\n",
    "\n",
    "ETaCollection_filtered = ETaCollection.filterDate(data_start,data_end).filterBounds(cutBoundingBox)"
   ]
  },
  {
   "cell_type": "code",
   "execution_count": 12,
   "metadata": {
    "collapsed": false,
    "deletable": true,
    "editable": true
   },
   "outputs": [],
   "source": [
    "def getMean(img):\n",
    "    return img.reduceRegions(cutBoundingBox, \n",
    "                             ee.Reducer.mean(),\n",
    "                             200)\n",
    "ans = ee.FeatureCollection(ETaCollection_filtered.map(getMean)).flatten().aggregate_array('.all').getInfo()"
   ]
  },
  {
   "cell_type": "code",
   "execution_count": 13,
   "metadata": {
    "collapsed": false,
    "deletable": true,
    "editable": true
   },
   "outputs": [
    {
     "name": "stdout",
     "output_type": "stream",
     "text": [
      "[87.63486691457805, 88.37334525501423, 92.06528750065223, 89.9274704921221, 90.89792543114011, 90.99479320638922, 93.39173424429738, 93.07005694218682, 90.48362029999359, 89.38059918822017, 88.80718158728651, 91.0330225721364, 92.33255210131662, 94.15497041897501, 96.52812765880088, 99.64516271453024, 99.41228565727192, 98.36263230261528]\n"
     ]
    }
   ],
   "source": [
    "x_agbp = [x['properties']['mean'] for x in ans]\n",
    "print x_agbp\n",
    "labels_agbp = [x['id'][:8] for x in ans]\n",
    "lables_data = [datetime.datetime.strptime(label,\"%Y%m%d\").strftime('%Y-%m-%d') for label in labels_agbp]"
   ]
  },
  {
   "cell_type": "code",
   "execution_count": 14,
   "metadata": {
    "collapsed": false,
    "deletable": true,
    "editable": true
   },
   "outputs": [
    {
     "data": {
      "image/png": "[encoded data removed]",
      "text/plain": [
       "<matplotlib.figure.Figure at 0xa638bc8c>"
      ]
     },
     "metadata": {},
     "output_type": "display_data"
    }
   ],
   "source": [
    "plt.plot(x_agbp)\n",
    "plt.xticks(range(len(labels_agbp)), lables_data, rotation= 90)\n",
    "plt.show()"
   ]
  }
 ],
 "metadata": {
  "kernelspec": {
   "display_name": "Python 2",
   "language": "python",
   "name": "python2"
  },
  "language_info": {
   "codemirror_mode": {
    "name": "ipython",
    "version": 2
   },
   "file_extension": ".py",
   "mimetype": "text/x-python",
   "name": "python",
   "nbconvert_exporter": "python",
   "pygments_lexer": "ipython2",
   "version": "2.7.12"
  }
 },
 "nbformat": 4,
 "nbformat_minor": 2
}
