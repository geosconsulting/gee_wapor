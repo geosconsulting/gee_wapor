{
 "cells": [
  {
   "cell_type": "code",
   "execution_count": 4,
   "metadata": {
    "collapsed": false
   },
   "outputs": [],
   "source": [
    "import requests\n",
    "import json\n",
    "from urlparse import urljoin"
   ]
  },
  {
   "cell_type": "code",
   "execution_count": 6,
   "metadata": {
    "collapsed": true
   },
   "outputs": [],
   "source": [
    "api_entry = 'http://localhost:8080/geoserver/rest/'\n",
    "credential = ('admin', 'geoserver')"
   ]
  },
  {
   "cell_type": "code",
   "execution_count": 7,
   "metadata": {
    "collapsed": false
   },
   "outputs": [],
   "source": [
    "resource = 'workspaces'\n",
    "payload = {'workspace': {'name':'pippo'}}\n",
    "headers = {'content-type': 'application/json'}\n",
    "\n",
    "request_url = urljoin(api_entry, resource)\n",
    "\n",
    "r = requests.post(\n",
    "    request_url,\n",
    "    data=json.dumps(payload),\n",
    "    headers=headers,\n",
    "    auth=credential\n",
    ")\n",
    "\n",
    "r.raise_for_status()"
   ]
  },
  {
   "cell_type": "code",
   "execution_count": 13,
   "metadata": {
    "collapsed": false
   },
   "outputs": [],
   "source": [
    "resource = 'workspaces/pippo'\n",
    "headers = {'Accept' : 'application/json'}\n",
    "\n",
    "request_url = urljoin(api_entry, resource)"
   ]
  },
  {
   "cell_type": "code",
   "execution_count": 14,
   "metadata": {
    "collapsed": false
   },
   "outputs": [
    {
     "data": {
      "text/plain": [
       "'http://localhost:8080/geoserver/rest/workspaces/pippo'"
      ]
     },
     "execution_count": 14,
     "metadata": {},
     "output_type": "execute_result"
    }
   ],
   "source": [
    "request_url"
   ]
  },
  {
   "cell_type": "code",
   "execution_count": 15,
   "metadata": {
    "collapsed": false
   },
   "outputs": [
    {
     "name": "stdout",
     "output_type": "stream",
     "text": [
      "{u'workspace': {u'dataStores': u'http://127.0.0.1:8080/geoserver/rest/workspaces/pippo/datastores.json', u'wmsStores': u'http://127.0.0.1:8080/geoserver/rest/workspaces/pippo/wmsstores.json', u'name': u'pippo', u'coverageStores': u'http://127.0.0.1:8080/geoserver/rest/workspaces/pippo/coveragestores.json'}}\n"
     ]
    }
   ],
   "source": [
    "r = requests.get(\n",
    "    request_url,\n",
    "    headers=headers,\n",
    "    auth=credential\n",
    ")\n",
    "\n",
    "print(r.json())"
   ]
  },
  {
   "cell_type": "code",
   "execution_count": null,
   "metadata": {
    "collapsed": true
   },
   "outputs": [],
   "source": []
  }
 ],
 "metadata": {
  "kernelspec": {
   "display_name": "Python 2",
   "language": "python",
   "name": "python2"
  },
  "language_info": {
   "codemirror_mode": {
    "name": "ipython",
    "version": 2
   },
   "file_extension": ".py",
   "mimetype": "text/x-python",
   "name": "python",
   "nbconvert_exporter": "python",
   "pygments_lexer": "ipython2",
   "version": "2.7.12"
  }
 },
 "nbformat": 4,
 "nbformat_minor": 2
}
