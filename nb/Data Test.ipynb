{
 "cells": [
  {
   "cell_type": "code",
   "execution_count": 1,
   "metadata": {
    "collapsed": false,
    "deletable": true,
    "editable": true
   },
   "outputs": [
    {
     "data": {
      "text/plain": [
       "{u'bands': [{u'crs': u'EPSG:4326',\n",
       "   u'crs_transform': [1.0, 0.0, 0.0, 0.0, 1.0, 0.0],\n",
       "   u'data_type': {u'precision': u'double', u'type': u'PixelType'},\n",
       "   u'id': u'b1_stdDev'}],\n",
       " u'type': u'Image'}"
      ]
     },
     "execution_count": 1,
     "metadata": {},
     "output_type": "execute_result"
    }
   ],
   "source": [
    "from IPython.display import Image\n",
    "import ee\n",
    "import ee.mapclient\n",
    "\n",
    "ee.Initialize()\n",
    "collection_precipitation = ee.ImageCollection(\"projects/fao-wapor/L1_PCP5K\");\n",
    "\n",
    "meanPrecipitation2015 = collection_precipitation.reduce(ee.Reducer.mean());\n",
    "sdPrecipitation2015 = collection_precipitation.reduce(ee.Reducer.stdDev());\n",
    "sdPrecipitation2015.getInfo()"
   ]
  },
  {
   "cell_type": "code",
   "execution_count": 2,
   "metadata": {
    "collapsed": false,
    "deletable": true,
    "editable": true
   },
   "outputs": [],
   "source": [
    "region = [[-25.0, -37.0], [60.0, -41.0], [58.0, 39.0], [-31.0, 38.0], [-25.0, -37.0]]\n",
    "url_sd = sdPrecipitation2015.getThumbUrl({\n",
    "    'bands' : 'b1_stdDev',\n",
    "    'palette':'faffb8,79e6ff,6daeff,346abc,fc6fff,b032ff,9913ff',\n",
    "    'min': -8,\n",
    "    'max' : 12,\n",
    "    'region':region\n",
    "})"
   ]
  },
  {
   "cell_type": "code",
   "execution_count": 4,
   "metadata": {
    "collapsed": false,
    "deletable": true,
    "editable": true
   },
   "outputs": [
    {
     "name": "stdout",
     "output_type": "stream",
     "text": [
      "10000 loops, best of 3: 33.1 µs per loop\n"
     ]
    }
   ],
   "source": [
    "%timeit Image(url=url_sd)"
   ]
  },
  {
   "cell_type": "code",
   "execution_count": 5,
   "metadata": {
    "collapsed": false
   },
   "outputs": [
    {
     "data": {
      "text/html": [
       "<img src=\"https://earthengine.googleapis.com/api/thumb?thumbid=9deea262be231a2dc4a74376a5864098&token=b35686d3165816811f8b631df91bd05f\"/>"
      ],
      "text/plain": [
       "<IPython.core.display.Image object>"
      ]
     },
     "execution_count": 5,
     "metadata": {},
     "output_type": "execute_result"
    }
   ],
   "source": [
    "Image(url=url_sd)"
   ]
  },
  {
   "cell_type": "code",
   "execution_count": 6,
   "metadata": {
    "collapsed": false,
    "deletable": true,
    "editable": true
   },
   "outputs": [
    {
     "data": {
      "text/html": [
       "<img src=\"https://earthengine.googleapis.com/api/thumb?thumbid=36f85d11e11f10aa8fdd43bac6753654&token=214c8ed716e3dd780e145bed0400244c\"/>"
      ],
      "text/plain": [
       "<IPython.core.display.Image object>"
      ]
     },
     "execution_count": 6,
     "metadata": {},
     "output_type": "execute_result"
    }
   ],
   "source": [
    "L1_AGBPSeasonals = ee.ImageCollection(\"projects/fao-wapor/L1_AGBP\")\n",
    "\n",
    "def maskNoData(image):\n",
    "    return image.updateMask(image.gte(0))\n",
    "\n",
    "#Above Ground Biomass Production with masked NoData (pixel < 0)\n",
    "L1_AGBPSeasonalMasked =L1_AGBPSeasonals.map(maskNoData)\n",
    "L1_AGBPSummedYearly = L1_AGBPSeasonalMasked.sum();\n",
    "\n",
    "L1_AGBPSummedYearly.getInfo()\n",
    "url_summedYearly = L1_AGBPSummedYearly.getThumbUrl({\n",
    "    'bands' : 'b1',\n",
    "    'palette':'ffffff,0f0f0f,f0f0f0',    \n",
    "    'max' : 750,\n",
    "    'region':region\n",
    "})\n",
    "Image(url=url_summedYearly)"
   ]
  },
  {
   "cell_type": "code",
   "execution_count": 8,
   "metadata": {
    "collapsed": false
   },
   "outputs": [
    {
     "name": "stdout",
     "output_type": "stream",
     "text": [
      " "
     ]
    }
   ],
   "source": [
    "%prun -s cumtime L1_AGBPSummedYearly = L1_AGBPSeasonalMasked.sum()"
   ]
  },
  {
   "cell_type": "code",
   "execution_count": 27,
   "metadata": {
    "collapsed": true,
    "deletable": true,
    "editable": true
   },
   "outputs": [],
   "source": [
    "fileName = 'maskerato'\n",
    "downConfig = {'region': region};\n",
    "\n",
    "export = ee.batch.Export.image(L1_AGBPSummedYearly, fileName,downConfig)\n",
    "#export.start();"
   ]
  },
  {
   "cell_type": "code",
   "execution_count": null,
   "metadata": {
    "collapsed": true,
    "deletable": true,
    "editable": true
   },
   "outputs": [],
   "source": []
  }
 ],
 "metadata": {
  "kernelspec": {
   "display_name": "Python 2",
   "language": "python",
   "name": "python2"
  },
  "language_info": {
   "codemirror_mode": {
    "name": "ipython",
    "version": 2
   },
   "file_extension": ".py",
   "mimetype": "text/x-python",
   "name": "python",
   "nbconvert_exporter": "python",
   "pygments_lexer": "ipython2",
   "version": "2.7.12"
  }
 },
 "nbformat": 4,
 "nbformat_minor": 2
}
