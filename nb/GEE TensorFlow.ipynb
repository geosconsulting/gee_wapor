{
 "cells": [
  {
   "cell_type": "code",
   "execution_count": 1,
   "metadata": {
    "collapsed": false,
    "deletable": true,
    "editable": true
   },
   "outputs": [
    {
     "name": "stderr",
     "output_type": "stream",
     "text": [
      "/usr/lib/python2.7/dist-packages/matplotlib/font_manager.py:273: UserWarning: Matplotlib is building the font cache using fc-list. This may take a moment.\n",
      "  warnings.warn('Matplotlib is building the font cache using fc-list. This may take a moment.')\n"
     ]
    },
    {
     "ename": "ImportError",
     "evalue": "No module named tensorflow",
     "traceback": [
      "\u001b[0;31m---------------------------------------------------------------------------\u001b[0m",
      "\u001b[0;31mImportError\u001b[0m                               Traceback (most recent call last)",
      "\u001b[0;32m<ipython-input-1-13ebf5c0b7bd>\u001b[0m in \u001b[0;36m<module>\u001b[0;34m()\u001b[0m\n\u001b[1;32m      6\u001b[0m \u001b[0;32mfrom\u001b[0m \u001b[0mosgeo\u001b[0m \u001b[0;32mimport\u001b[0m \u001b[0mgdal\u001b[0m\u001b[0;34m\u001b[0m\u001b[0m\n\u001b[1;32m      7\u001b[0m \u001b[0;32mimport\u001b[0m \u001b[0mtempfile\u001b[0m\u001b[0;34m\u001b[0m\u001b[0m\n\u001b[0;32m----> 8\u001b[0;31m \u001b[0;32mimport\u001b[0m \u001b[0mtensorflow\u001b[0m \u001b[0;32mas\u001b[0m \u001b[0mtf\u001b[0m\u001b[0;34m\u001b[0m\u001b[0m\n\u001b[0m\u001b[1;32m      9\u001b[0m \u001b[0;32mimport\u001b[0m \u001b[0murllib\u001b[0m\u001b[0;34m\u001b[0m\u001b[0m\n\u001b[1;32m     10\u001b[0m \u001b[0;32mimport\u001b[0m \u001b[0mzipfile\u001b[0m\u001b[0;34m\u001b[0m\u001b[0m\n",
      "\u001b[0;31mImportError\u001b[0m: No module named tensorflow"
     ],
     "output_type": "error"
    }
   ],
   "source": [
    "import ee\n",
    "from IPython import display\n",
    "import math\n",
    "from matplotlib import pyplot\n",
    "import numpy\n",
    "from osgeo import gdal\n",
    "import tempfile\n",
    "import tensorflow as tf\n",
    "import urllib\n",
    "import zipfile"
   ]
  },
  {
   "cell_type": "code",
   "execution_count": 2,
   "metadata": {
    "collapsed": true,
    "deletable": true,
    "editable": true
   },
   "outputs": [],
   "source": [
    "ee.Initialize()"
   ]
  },
  {
   "cell_type": "code",
   "execution_count": 3,
   "metadata": {
    "collapsed": true,
    "deletable": true,
    "editable": true
   },
   "outputs": [],
   "source": [
    "# Print the information for an image asset.\n",
    "image = ee.Image('LC8_L1T/LC81910312016217LGN00');"
   ]
  },
  {
   "cell_type": "code",
   "execution_count": 4,
   "metadata": {
    "collapsed": false,
    "deletable": true,
    "editable": true
   },
   "outputs": [],
   "source": [
    "# display the map\n",
    "#ee.mapclient.addToMap(image,\n",
    "#                      {'min':6000,'max':18000,\n",
    "#                      'bands':['B4','B3','B2']},\n",
    "#                      \"mymap\")\n",
    "\n",
    "#ee.mapclient.centerMap(12.3536,41.7686,9);"
   ]
  },
  {
   "cell_type": "code",
   "execution_count": 6,
   "metadata": {
    "collapsed": false,
    "deletable": true,
    "editable": true
   },
   "outputs": [
    {
     "name": "stdout",
     "output_type": "stream",
     "text": [
      "https://earthengine.googleapis.com/api/thumb?thumbid=dca688904caf6442f8fbc7fcf4ba3c5f&token=43df175033d91a18dbfffdcda11df741\n"
     ]
    }
   ],
   "source": [
    "url = image.getThumbUrl()\n",
    "print(url)"
   ]
  },
  {
   "cell_type": "code",
   "execution_count": 8,
   "metadata": {
    "collapsed": false,
    "deletable": true,
    "editable": true
   },
   "outputs": [
    {
     "data": {
      "text/html": [
       "<img src=\"https://earthengine.googleapis.com/api/thumb?thumbid=dca688904caf6442f8fbc7fcf4ba3c5f&token=43df175033d91a18dbfffdcda11df741\"/>"
      ],
      "text/plain": [
       "<IPython.core.display.Image object>"
      ]
     },
     "execution_count": 8,
     "metadata": {},
     "output_type": "execute_result"
    }
   ],
   "source": [
    "from IPython.display import Image\n",
    "Image(url=url)"
   ]
  },
  {
   "cell_type": "code",
   "execution_count": 9,
   "metadata": {
    "collapsed": false,
    "deletable": true,
    "editable": true
   },
   "outputs": [
    {
     "name": "stdout",
     "output_type": "stream",
     "text": [
      "{u'bands': [{u'crs': u'EPSG:32633', u'crs_transform': [30.0, 0.0, 142485.0, 0.0, -30.0, 4747515.0], u'dimensions': [7931, 8061], u'data_type': {u'max': 65535, u'type': u'PixelType', u'precision': u'int', u'min': 0}, u'id': u'B1', u'properties': {u'google:calibration_gain': 0.012198505, u'google:calibration_bias': -60.992527, u'system:nodata_value': 0.0}}, {u'crs': u'EPSG:32633', u'crs_transform': [30.0, 0.0, 142485.0, 0.0, -30.0, 4747515.0], u'dimensions': [7931, 8061], u'data_type': {u'max': 65535, u'type': u'PixelType', u'precision': u'int', u'min': 0}, u'id': u'B2', u'properties': {u'google:calibration_gain': 0.012491418, u'google:calibration_bias': -62.457092, u'system:nodata_value': 0.0}}, {u'crs': u'EPSG:32633', u'crs_transform': [30.0, 0.0, 142485.0, 0.0, -30.0, 4747515.0], u'dimensions': [7931, 8061], u'data_type': {u'max': 65535, u'type': u'PixelType', u'precision': u'int', u'min': 0}, u'id': u'B3', u'properties': {u'google:calibration_gain': 0.011510735, u'google:calibration_bias': -57.55367, u'system:nodata_value': 0.0}}, {u'crs': u'EPSG:32633', u'crs_transform': [30.0, 0.0, 142485.0, 0.0, -30.0, 4747515.0], u'dimensions': [7931, 8061], u'data_type': {u'max': 65535, u'type': u'PixelType', u'precision': u'int', u'min': 0}, u'id': u'B4', u'properties': {u'google:calibration_gain': 0.0097065, u'google:calibration_bias': -48.532497, u'system:nodata_value': 0.0}}, {u'crs': u'EPSG:32633', u'crs_transform': [30.0, 0.0, 142485.0, 0.0, -30.0, 4747515.0], u'dimensions': [7931, 8061], u'data_type': {u'max': 65535, u'type': u'PixelType', u'precision': u'int', u'min': 0}, u'id': u'B5', u'properties': {u'google:calibration_gain': 0.0059398944, u'google:calibration_bias': -29.69947, u'system:nodata_value': 0.0}}, {u'crs': u'EPSG:32633', u'crs_transform': [30.0, 0.0, 142485.0, 0.0, -30.0, 4747515.0], u'dimensions': [7931, 8061], u'data_type': {u'max': 65535, u'type': u'PixelType', u'precision': u'int', u'min': 0}, u'id': u'B6', u'properties': {u'google:calibration_gain': 0.0014771976, u'google:calibration_bias': -7.3859873, u'system:nodata_value': 0.0}}, {u'crs': u'EPSG:32633', u'crs_transform': [30.0, 0.0, 142485.0, 0.0, -30.0, 4747515.0], u'dimensions': [7931, 8061], u'data_type': {u'max': 65535, u'type': u'PixelType', u'precision': u'int', u'min': 0}, u'id': u'B7', u'properties': {u'google:calibration_gain': 0.00049789465, u'google:calibration_bias': -2.4894779, u'system:nodata_value': 0.0}}, {u'crs': u'EPSG:32633', u'crs_transform': [15.0, 0.0, 142492.5, 0.0, -15.0, 4747507.5], u'dimensions': [15861, 16121], u'data_type': {u'max': 65535, u'type': u'PixelType', u'precision': u'int', u'min': 0}, u'id': u'B8', u'properties': {u'google:calibration_gain': 0.010985087, u'google:calibration_bias': -54.925434, u'system:nodata_value': 0.0}}, {u'crs': u'EPSG:32633', u'crs_transform': [30.0, 0.0, 142485.0, 0.0, -30.0, 4747515.0], u'dimensions': [7931, 8061], u'data_type': {u'max': 65535, u'type': u'PixelType', u'precision': u'int', u'min': 0}, u'id': u'B9', u'properties': {u'google:calibration_gain': 0.0023214454, u'google:calibration_bias': -11.607231, u'system:nodata_value': 0.0}}, {u'crs': u'EPSG:32633', u'crs_transform': [30.0, 0.0, 142485.0, 0.0, -30.0, 4747515.0], u'dimensions': [7931, 8061], u'data_type': {u'max': 65535, u'type': u'PixelType', u'precision': u'int', u'min': 0}, u'id': u'B10', u'properties': {u'google:calibration_gain': 0.0003342001, u'google:calibration_bias': 0.0999958, u'system:nodata_value': 0.0}}, {u'crs': u'EPSG:32633', u'crs_transform': [30.0, 0.0, 142485.0, 0.0, -30.0, 4747515.0], u'dimensions': [7931, 8061], u'data_type': {u'max': 65535, u'type': u'PixelType', u'precision': u'int', u'min': 0}, u'id': u'B11', u'properties': {u'google:calibration_gain': 0.0003342001, u'google:calibration_bias': 0.0999958, u'system:nodata_value': 0.0}}, {u'crs': u'EPSG:32633', u'crs_transform': [30.0, 0.0, 142485.0, 0.0, -30.0, 4747515.0], u'dimensions': [7931, 8061], u'data_type': {u'max': 65535, u'type': u'PixelType', u'precision': u'int', u'min': 0}, u'id': u'BQA', u'properties': {u'system:nodata_value': 1.0}}], u'version': 1472605057586000L, u'type': u'Image', u'id': u'LC8_L1T/LC81910312016217LGN00', u'properties': {u'REFLECTANCE_MINIMUM_BAND_9': -0.09998, u'THERMAL_LINES': 8061, u'EARTH_SUN_DISTANCE': 1.0145375, u'SCENE_CENTER_TIME': u'09:53:24.2783960Z', u'CORNER_LL_PROJECTION_Y_PRODUCT': 4505700.0, u'REQUEST_ID': u'0701608237409_00027', u'RADIANCE_MULT_BAND_7': 0.00049789, u'RADIANCE_MULT_BAND_6': 0.0014772, u'RADIANCE_MULT_BAND_5': 0.0059399, u'RADIANCE_MULT_BAND_4': 0.0097065, u'RADIANCE_MULT_BAND_3': 0.011511, u'RADIANCE_MULT_BAND_2': 0.012491, u'RADIANCE_MULT_BAND_1': 0.012199, u'GEOMETRIC_RMSE_MODEL': 5.574, u'QUANTIZE_CAL_MIN_BAND_7': 1, u'QUANTIZE_CAL_MIN_BAND_6': 1, u'QUANTIZE_CAL_MIN_BAND_5': 1, u'QUANTIZE_CAL_MIN_BAND_4': 1, u'QUANTIZE_CAL_MIN_BAND_3': 1, u'QUANTIZE_CAL_MIN_BAND_2': 1, u'RADIANCE_MULT_BAND_9': 0.0023214, u'RADIANCE_MULT_BAND_8': 0.010985, u'DATUM': u'WGS84', u'REFLECTANCE_MAXIMUM_BAND_8': 1.2107, u'CORNER_LR_LON_PRODUCT': 13.58447, u'REFLECTANCE_MAXIMUM_BAND_6': 1.2107, u'REFLECTANCE_MAXIMUM_BAND_7': 1.2107, u'REFLECTANCE_MAXIMUM_BAND_4': 1.2107, u'REFLECTANCE_MAXIMUM_BAND_5': 1.2107, u'REFLECTANCE_MAXIMUM_BAND_2': 1.2107, u'REFLECTANCE_MAXIMUM_BAND_3': 1.2107, u'REFLECTANCE_MAXIMUM_BAND_1': 1.2107, u'GROUND_CONTROL_POINTS_VERSION': 4, u'REFLECTANCE_ADD_BAND_9': -0.1, u'ELLIPSOID': u'WGS84', u'system:time_end': 1470304404278L, u'REFLECTANCE_ADD_BAND_8': -0.1, u'RADIANCE_ADD_BAND_1': -60.99253, u'RADIANCE_MAXIMUM_BAND_10': 22.0018, u'RADIANCE_MAXIMUM_BAND_11': 22.0018, u'google:cloud_storage_path_md5': u'64d3b5964904bc5a8bc8ca2cdc8e490c', u'BPF_NAME_OLI': u'LO8BPF20160804094400_20160804100441.01', u'GRID_CELL_SIZE_THERMAL': 30.0, u'RADIANCE_ADD_BAND_3': -57.55368, u'QUANTIZE_CAL_MAX_BAND_11': 65535, u'QUANTIZE_CAL_MAX_BAND_10': 65535, u'RADIANCE_ADD_BAND_2': -62.45709, u'RADIANCE_ADD_BAND_5': -29.69947, u'system:asset_size': 1073852301, u'google:cloud_storage_path_bytes': 672148270, u'RADIANCE_ADD_BAND_4': -48.5325, u'RADIANCE_ADD_BAND_7': -2.48947, u'CORNER_UL_LAT_PRODUCT': 42.79658, u'WRS_PATH': 191, u'RADIANCE_ADD_BAND_6': -7.38599, u'REFLECTANCE_MINIMUM_BAND_4': -0.09998, u'DATA_TYPE': u'L1T', u'FILE_NAME_BAND_QUALITY': u'LC81910312016217LGN00_BQA.TIF', u'QUANTIZE_CAL_MAX_BAND_5': 65535, u'QUANTIZE_CAL_MAX_BAND_4': 65535, u'QUANTIZE_CAL_MAX_BAND_7': 65535, u'QUANTIZE_CAL_MAX_BAND_6': 65535, u'QUANTIZE_CAL_MAX_BAND_1': 65535, u'QUANTIZE_CAL_MAX_BAND_3': 65535, u'QUANTIZE_CAL_MAX_BAND_2': 65535, u'QUANTIZE_CAL_MAX_BAND_9': 65535, u'QUANTIZE_CAL_MAX_BAND_8': 65535, u'REFLECTIVE_LINES': 8061, u'IMAGE_QUALITY_TIRS': 9, u'SPACECRAFT_ID': u'LANDSAT_8', u'STATION_ID': u'LGN', u'CPF_NAME': u'L8CPF20160701_20160930.02', u'CORNER_UR_LON_PRODUCT': 13.53574, u'google:registration_ratio': 0.6, u'google:cloud_storage_path': u'gs://earthengine-public/landsat/L8/191/031/LC81910312016217LGN00.tar.bz', u'REFLECTANCE_MULT_BAND_9': 2e-05, u'REFLECTANCE_MULT_BAND_8': 2e-05, u'QUANTIZE_CAL_MIN_BAND_11': 1, u'QUANTIZE_CAL_MIN_BAND_10': 1, u'CORNER_LL_LAT_PRODUCT': 40.62479, u'REFLECTANCE_MULT_BAND_1': 2e-05, u'REFLECTANCE_MULT_BAND_3': 2e-05, u'REFLECTANCE_MULT_BAND_2': 2e-05, u'REFLECTANCE_MULT_BAND_5': 2e-05, u'REFLECTANCE_MULT_BAND_4': 2e-05, u'REFLECTANCE_MULT_BAND_7': 2e-05, u'REFLECTANCE_MULT_BAND_6': 2e-05, u'WRS_ROW': 31, u'REFLECTANCE_MINIMUM_BAND_5': -0.09998, u'REFLECTANCE_MINIMUM_BAND_6': -0.09998, u'REFLECTANCE_MINIMUM_BAND_7': -0.09998, u'REFLECTANCE_MINIMUM_BAND_1': -0.09998, u'REFLECTANCE_MINIMUM_BAND_2': -0.09998, u'REFLECTANCE_MINIMUM_BAND_3': -0.09998, u'TARGET_WRS_PATH': 191, u'GEOMETRIC_RMSE_MODEL_X': 4.371, u'GEOMETRIC_RMSE_MODEL_Y': 3.46, u'THERMAL_SAMPLES': 7931, u'RADIANCE_MAXIMUM_BAND_8': 664.98224, u'RADIANCE_MAXIMUM_BAND_9': 140.52869, u'QUANTIZE_CAL_MIN_BAND_9': 1, u'RADIANCE_MAXIMUM_BAND_3': 696.80237, u'RADIANCE_MAXIMUM_BAND_1': 738.4365, u'RADIANCE_MAXIMUM_BAND_2': 756.16797, u'QUANTIZE_CAL_MIN_BAND_8': 1, u'RADIANCE_MAXIMUM_BAND_4': 587.583, u'RADIANCE_MAXIMUM_BAND_5': 359.5715, u'RADIANCE_MAXIMUM_BAND_6': 89.42216, u'RADIANCE_MAXIMUM_BAND_7': 30.14005, u'google:registration_offset_y': 514.4092, u'DATE_ACQUIRED': u'2016-08-04', u'RLUT_FILE_NAME': u'L8RLUT20150303_20431231v11.h5', u'K2_CONSTANT_BAND_10': 1321.0789, u'LANDSAT_SCENE_ID': u'LC81910312016217LGN00', u'CORNER_LR_PROJECTION_Y_PRODUCT': 4505700.0, u'SUN_AZIMUTH': 137.57639, u'CORNER_LL_PROJECTION_X_PRODUCT': 142500.0, u'CORNER_UR_PROJECTION_Y_PRODUCT': 4747500.0, u'system:time_start': 1470304404278L, u'QUANTIZE_CAL_MIN_BAND_1': 1, u'CLOUD_COVER_LAND': 1.04, u'BPF_NAME_TIRS': u'LT8BPF20160803085042_20160818203550.01', u'ELEVATION_SOURCE': u'GLS2000', u'GEOMETRIC_RMSE_VERIFY': 3.726, u'GRID_CELL_SIZE_REFLECTIVE': 30.0, u'ORIENTATION': u'NORTH_UP', u'SENSOR_ID': u'OLI_TIRS', u'REFLECTANCE_MINIMUM_BAND_8': -0.09998, u'CORNER_LR_PROJECTION_X_PRODUCT': 380400.0, u'RADIANCE_MULT_BAND_11': 0.0003342, u'RADIANCE_MULT_BAND_10': 0.0003342, u'RADIANCE_MINIMUM_BAND_10': 0.10033, u'RADIANCE_MINIMUM_BAND_11': 0.10033, u'PANCHROMATIC_SAMPLES': 15861, u'ORIGIN': u'Image courtesy of the U.S. Geological Survey', u'TARGET_WRS_ROW': 31, u'UTM_ZONE': 33, u'PROCESSING_SOFTWARE_VERSION': u'LPGS_2.6.2', u'REFLECTANCE_MAXIMUM_BAND_9': 1.2107, u'CORNER_UL_PROJECTION_Y_PRODUCT': 4747500.0, u'SUN_ELEVATION': 59.435364, u'MAP_PROJECTION': u'UTM', u'IMAGE_QUALITY_OLI': 9, u'METADATA_FILE_NAME': u'LC81910312016217LGN00_MTL.txt', u'FILE_DATE': 1472193869000L, u'RESAMPLING_OPTION': u'CUBIC_CONVOLUTION', u'CORNER_UR_LAT_PRODUCT': 42.87073, u'TIRS_SSM_MODEL': u'FINAL', u'system:index': u'LC81910312016217LGN00', u'PANCHROMATIC_LINES': 16121, u'NADIR_OFFNADIR': u'NADIR', u'CORNER_LR_LAT_PRODUCT': 40.69353, u'REFLECTIVE_SAMPLES': 7931, u'GRID_CELL_SIZE_PANCHROMATIC': 15.0, u'TIRS_SSM_POSITION_STATUS': u'ESTIMATED', u'system:footprint': {u'type': u'LinearRing', u'coordinates': [[11.285829919481891, 42.81684373661183], [10.748430096622824, 41.09769882454157], [12.945949718607714, 40.686632519780495], [13.540099938184348, 42.403408030927096], [11.285829919481891, 42.81684373661183]]}, u'GROUND_CONTROL_POINTS_MODEL': 448, u'RADIANCE_MINIMUM_BAND_6': -7.38451, u'RADIANCE_MINIMUM_BAND_7': -2.48898, u'RADIANCE_MINIMUM_BAND_4': -48.52279, u'RADIANCE_MINIMUM_BAND_5': -29.69353, u'RADIANCE_MINIMUM_BAND_2': -62.4446, u'RADIANCE_MINIMUM_BAND_3': -57.54216, u'FILE_NAME_BAND_5': u'LC81910312016217LGN00_B5.TIF', u'RADIANCE_MINIMUM_BAND_1': -60.98033, u'CLOUD_COVER': 1.71, u'FILE_NAME_BAND_9': u'LC81910312016217LGN00_B9.TIF', u'FILE_NAME_BAND_8': u'LC81910312016217LGN00_B8.TIF', u'RADIANCE_MINIMUM_BAND_8': -54.91445, u'RADIANCE_MINIMUM_BAND_9': -11.60491, u'RADIANCE_ADD_BAND_9': -11.60723, u'RADIANCE_ADD_BAND_8': -54.92543, u'CORNER_UL_PROJECTION_X_PRODUCT': 142500.0, u'FILE_NAME_BAND_11': u'LC81910312016217LGN00_B11.TIF', u'FILE_NAME_BAND_10': u'LC81910312016217LGN00_B10.TIF', u'REFLECTANCE_ADD_BAND_7': -0.1, u'REFLECTANCE_ADD_BAND_6': -0.1, u'REFLECTANCE_ADD_BAND_5': -0.1, u'REFLECTANCE_ADD_BAND_4': -0.1, u'REFLECTANCE_ADD_BAND_3': -0.1, u'REFLECTANCE_ADD_BAND_2': -0.1, u'REFLECTANCE_ADD_BAND_1': -0.1, u'google:registration_offset_x': 110.67699, u'FILE_NAME_BAND_3': u'LC81910312016217LGN00_B3.TIF', u'FILE_NAME_BAND_2': u'LC81910312016217LGN00_B2.TIF', u'OUTPUT_FORMAT': u'GEOTIFF', u'FILE_NAME_BAND_1': u'LC81910312016217LGN00_B1.TIF', u'K1_CONSTANT_BAND_10': 774.8853, u'K1_CONSTANT_BAND_11': 480.8883, u'FILE_NAME_BAND_7': u'LC81910312016217LGN00_B7.TIF', u'CORNER_UL_LON_PRODUCT': 10.62867, u'google:registration_count': 6, u'FILE_NAME_BAND_6': u'LC81910312016217LGN00_B6.TIF', u'RADIANCE_ADD_BAND_11': 0.1, u'RADIANCE_ADD_BAND_10': 0.1, u'CORNER_UR_PROJECTION_X_PRODUCT': 380400.0, u'FILE_NAME_BAND_4': u'LC81910312016217LGN00_B4.TIF', u'catalog_cloud_cover': 0, u'GROUND_CONTROL_POINTS_VERIFY': 145, u'catalog_image_quality1': 9, u'K2_CONSTANT_BAND_11': 1201.1442, u'ROLL_ANGLE': -0.001, u'CORNER_LL_LON_PRODUCT': 10.77365}}\n"
     ]
    }
   ],
   "source": [
    "info = image.getInfo()\n",
    "print(info)"
   ]
  },
  {
   "cell_type": "code",
   "execution_count": 10,
   "metadata": {
    "collapsed": false,
    "deletable": true,
    "editable": true
   },
   "outputs": [
    {
     "data": {
      "text/html": [
       "<img src=\"https://earthengine.googleapis.com/api/thumb?thumbid=f80f7287fc7bd84d2b68869865d7fdcf&token=c3053e75d9408cbd844b038a6fd9f26e\"/>"
      ],
      "text/plain": [
       "<IPython.core.display.Image object>"
      ]
     },
     "execution_count": 10,
     "metadata": {},
     "output_type": "execute_result"
    }
   ],
   "source": [
    "srtm = ee.Image(\"CGIAR/SRTM90_V4\")\n",
    "Image(url=srtm.getThumbUrl())"
   ]
  },
  {
   "cell_type": "code",
   "execution_count": 11,
   "metadata": {
    "collapsed": false,
    "deletable": true,
    "editable": true
   },
   "outputs": [
    {
     "data": {
      "text/html": [
       "<img src=\"https://earthengine.googleapis.com/api/thumb?thumbid=dc1e49122501a1223c0e36307aa39e08&token=98ded242662a6159c2f3861c4f3c0281\"/>"
      ],
      "text/plain": [
       "<IPython.core.display.Image object>"
      ]
     },
     "execution_count": 11,
     "metadata": {},
     "output_type": "execute_result"
    }
   ],
   "source": [
    "Image(url=srtm.getThumbUrl({'min':0, 'max':3000}))"
   ]
  },
  {
   "cell_type": "code",
   "execution_count": 12,
   "metadata": {
    "collapsed": false,
    "deletable": true,
    "editable": true
   },
   "outputs": [
    {
     "data": {
      "text/html": [
       "<img src=\"https://earthengine.googleapis.com/api/thumb?thumbid=3a1ae0f18b539ae6aee809922fb4a9b5&token=83767412f039d5fce574dece35c92c5b\"/>"
      ],
      "text/plain": [
       "<IPython.core.display.Image object>"
      ]
     },
     "execution_count": 12,
     "metadata": {},
     "output_type": "execute_result"
    }
   ],
   "source": [
    "point = ee.Geometry.Point(-122.0918, 37.422)\n",
    "region_bay_area = point.buffer(50000).bounds().getInfo()['coordinates']\n",
    "Image(url=srtm.getThumbUrl({'min':0, 'max':1000, 'region':region_bay_area}))"
   ]
  },
  {
   "cell_type": "code",
   "execution_count": 13,
   "metadata": {
    "collapsed": false,
    "deletable": true,
    "editable": true
   },
   "outputs": [
    {
     "data": {
      "text/html": [
       "<img src=\"https://earthengine.googleapis.com/api/thumb?thumbid=1766d17fd5a1b011f6ca28c24d8f3c08&token=db0bc04d6b4d76957b6dbd1ff4e5bec7\"/>"
      ],
      "text/plain": [
       "<IPython.core.display.Image object>"
      ]
     },
     "execution_count": 13,
     "metadata": {},
     "output_type": "execute_result"
    }
   ],
   "source": [
    "# Create a reference to the image collection\n",
    "l8 = ee.ImageCollection('LANDSAT/LC8_L1T_TOA')\n",
    "\n",
    "# Filter the collection down to a two week period\n",
    "filtered = l8.filterDate('2013-05-01', '2013-05-15');\n",
    "\n",
    "# Use the mosaic reducer, to select the most recent pixel in areas of overlap\n",
    "l8_image = filtered.mosaic()\n",
    "\n",
    "# Define a region roughly covering California\n",
    "point = ee.Geometry.Point(-118, 37)\n",
    "region_california = point.buffer(500000).bounds().getInfo()['coordinates']\n",
    "\n",
    "# And finally display the image.\n",
    "Image(url=l8_image.getThumbUrl({'region':region_california}))"
   ]
  },
  {
   "cell_type": "code",
   "execution_count": 14,
   "metadata": {
    "collapsed": false,
    "deletable": true,
    "editable": true
   },
   "outputs": [
    {
     "data": {
      "text/html": [
       "<img src=\"https://earthengine.googleapis.com/api/thumb?thumbid=858c0af1137fc154b1a8e92157765070&token=85231128211bb2cf151945e47c3f2e68\"/>"
      ],
      "text/plain": [
       "<IPython.core.display.Image object>"
      ]
     },
     "execution_count": 14,
     "metadata": {},
     "output_type": "execute_result"
    }
   ],
   "source": [
    "Image(url=l8_image.getThumbUrl({\n",
    "    'region':region_california,\n",
    "    'bands':'B4,B3,B2',\n",
    "    'min':0,\n",
    "    'max':0.3\n",
    "}))"
   ]
  },
  {
   "cell_type": "code",
   "execution_count": 15,
   "metadata": {
    "collapsed": false,
    "deletable": true,
    "editable": true
   },
   "outputs": [
    {
     "data": {
      "text/html": [
       "<img src=\"https://earthengine.googleapis.com/api/thumb?thumbid=2955a4a6daf7b82814364ae50bc4c96f&token=00e663e29844372d717629e220d0d1d8\"/>"
      ],
      "text/plain": [
       "<IPython.core.display.Image object>"
      ]
     },
     "execution_count": 15,
     "metadata": {},
     "output_type": "execute_result"
    }
   ],
   "source": [
    "Image(url=l8_image.getThumbUrl({\n",
    "    'region':region_california,\n",
    "    'bands':'B5,B4,B3',\n",
    "    'min':0,\n",
    "    'max':0.3\n",
    "}))"
   ]
  },
  {
   "cell_type": "code",
   "execution_count": 16,
   "metadata": {
    "collapsed": true,
    "deletable": true,
    "editable": true
   },
   "outputs": [],
   "source": [
    "filtered = l8.filterDate('2013-01-01', '2014-01-01')"
   ]
  },
  {
   "cell_type": "code",
   "execution_count": 17,
   "metadata": {
    "collapsed": false,
    "deletable": true,
    "editable": true
   },
   "outputs": [
    {
     "data": {
      "text/html": [
       "<img src=\"https://earthengine.googleapis.com/api/thumb?thumbid=cc2bca4770b26427c38a42d717208f9c&token=a827fdce32d25591229da17a7aaf2dfb\"/>"
      ],
      "text/plain": [
       "<IPython.core.display.Image object>"
      ]
     },
     "execution_count": 17,
     "metadata": {},
     "output_type": "execute_result"
    }
   ],
   "source": [
    "#.mosaic() reducer, which retains the last (most recent) pixels in areas of image overlap\n",
    "l8_image = filtered.mosaic()\n",
    "Image(url=l8_image.getThumbUrl({\n",
    "    'region':region_california,\n",
    "    'bands':'B4,B3,B2',\n",
    "    'min':0,\n",
    "    'max':0.3\n",
    "}))"
   ]
  },
  {
   "cell_type": "code",
   "execution_count": 18,
   "metadata": {
    "collapsed": false,
    "deletable": true,
    "editable": true
   },
   "outputs": [
    {
     "data": {
      "text/html": [
       "<img src=\"https://earthengine.googleapis.com/api/thumb?thumbid=9c6d3021327afe6739fb5f2582dec200&token=68df780aea5f43d47c57ed90b58ef305\"/>"
      ],
      "text/plain": [
       "<IPython.core.display.Image object>"
      ]
     },
     "execution_count": 18,
     "metadata": {},
     "output_type": "execute_result"
    }
   ],
   "source": [
    "l8_image = filtered.median()\n",
    "Image(url=l8_image.getThumbUrl({\n",
    "    'region':region_california,\n",
    "    'bands':'B4,B3,B2',\n",
    "    'min':0,\n",
    "    'max':0.3\n",
    "}))"
   ]
  },
  {
   "cell_type": "code",
   "execution_count": 19,
   "metadata": {
    "collapsed": false,
    "deletable": true,
    "editable": true
   },
   "outputs": [
    {
     "data": {
      "text/html": [
       "<img src=\"https://earthengine.googleapis.com/api/thumb?thumbid=b706d154837178a1a52c064a0bce7373&token=d8adb288e0795f82f1847ef5bf0b90c1\"/>"
      ],
      "text/plain": [
       "<IPython.core.display.Image object>"
      ]
     },
     "execution_count": 19,
     "metadata": {},
     "output_type": "execute_result"
    }
   ],
   "source": [
    "l8_image = filtered.min()\n",
    "Image(url=l8_image.getThumbUrl({\n",
    "    'region':region_california,\n",
    "    'bands':'B4,B3,B2',\n",
    "    'min':0,\n",
    "    'max':0.3\n",
    "}))"
   ]
  },
  {
   "cell_type": "code",
   "execution_count": 20,
   "metadata": {
    "collapsed": false,
    "deletable": true,
    "editable": true
   },
   "outputs": [
    {
     "data": {
      "text/html": [
       "<img src=\"https://earthengine.googleapis.com/api/thumb?thumbid=cb55d00741f8d561cd223ae0e2bb158c&token=bcf9d3155cff39afe25edb81c49e6b6b\"/>"
      ],
      "text/plain": [
       "<IPython.core.display.Image object>"
      ]
     },
     "execution_count": 20,
     "metadata": {},
     "output_type": "execute_result"
    }
   ],
   "source": [
    "l8_image = filtered.max()\n",
    "Image(url=l8_image.getThumbUrl({\n",
    "    'region':region_california,\n",
    "    'bands':'B4,B3,B2',\n",
    "    'min':0,\n",
    "    'max':0.3\n",
    "}))"
   ]
  },
  {
   "cell_type": "code",
   "execution_count": null,
   "metadata": {
    "collapsed": true,
    "deletable": true,
    "editable": true
   },
   "outputs": [],
   "source": [
    ""
   ]
  }
 ],
 "metadata": {
  "kernelspec": {
   "display_name": "Python 2",
   "language": "python",
   "name": "python2"
  },
  "language_info": {
   "codemirror_mode": {
    "name": "ipython",
    "version": 2.0
   },
   "file_extension": ".py",
   "mimetype": "text/x-python",
   "name": "python",
   "nbconvert_exporter": "python",
   "pygments_lexer": "ipython2",
   "version": "2.7.12"
  }
 },
 "nbformat": 4,
 "nbformat_minor": 0
}