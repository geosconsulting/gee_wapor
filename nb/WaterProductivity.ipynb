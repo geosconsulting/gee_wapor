{
 "cells": [
  {
   "cell_type": "code",
   "execution_count": 2,
   "metadata": {
    "collapsed": false,
    "deletable": true,
    "editable": true
   },
   "outputs": [],
   "source": [
    "from IPython.display import Image\n",
    "import ee\n",
    "import ee.mapclient\n",
    "import datetime\n",
    "\n",
    "ee.Initialize()\n",
    "L1_AGBPSeasonals = ee.ImageCollection(\"projects/fao-wapor/L1_AGBP\")\n",
    "ETaCollection = ee.ImageCollection(\"projects/fao-wapor/L1_AET\")\n",
    "AET250 = ee.ImageCollection(\"users/lpeiserfao/AET250\")\n",
    "\n",
    "rasterSeason1 = ee.Image(L1_AGBPSeasonals.first())"
   ]
  },
  {
   "cell_type": "markdown",
   "metadata": {},
   "source": [
    "# Informazioni varie sui dati di input"
   ]
  },
  {
   "cell_type": "code",
   "execution_count": 3,
   "metadata": {
    "collapsed": false,
    "deletable": true,
    "editable": true
   },
   "outputs": [
    {
     "data": {
      "text/plain": [
       "{u'bands': [{u'crs': u'EPSG:4326',\n",
       "   u'crs_transform': [0.00223214286,\n",
       "    0.0,\n",
       "    -30.0044643,\n",
       "    0.0,\n",
       "    -0.00223214286,\n",
       "    40.0044643],\n",
       "   u'data_type': {u'precision': u'float', u'type': u'PixelType'},\n",
       "   u'dimensions': [42564, 35844],\n",
       "   u'id': u'b1'}],\n",
       " u'id': u'projects/fao-wapor/L1_AGBP/L1_AGBP_15s1',\n",
       " u'properties': {u'area': u'AfNE',\n",
       "  u'days_in_dk': 0.0,\n",
       "  u'season': 1.0,\n",
       "  u'system:asset_size': 1602581313,\n",
       "  u'system:footprint': {u'coordinates': [[33.45815610768672,\n",
       "     40.00558428068579],\n",
       "    [23.809038489303575, 40.00558428068579],\n",
       "    [9.335362061737218, 40.00558428068581],\n",
       "    [-1.0559953734367642, 40.005584280685795],\n",
       "    [-14.78743198420065, 40.005584280685795],\n",
       "    [-30.00626732411657, 40.005579588766935],\n",
       "    [-30.00626732411973, -40.00557966260693],\n",
       "    [-18.127511159796093, -40.00558435452578],\n",
       "    [0.057364351758189706, -40.00558435452578],\n",
       "    [13.788800962527548, -40.00558435452578],\n",
       "    [33.82927601608015, -40.00558435452579],\n",
       "    [51.27191171084418, -40.00558435452578],\n",
       "    [65.0062674171597, -40.00557966260692],\n",
       "    [65.00626741715656, 40.00557958876695],\n",
       "    [54.240870978035474, 40.005584280685795],\n",
       "    [44.220633451257086, 40.00558428068579],\n",
       "    [33.45815610768672, 40.00558428068579]],\n",
       "   u'type': u'LinearRing'},\n",
       "  u'system:index': u'L1_AGBP_15s1',\n",
       "  u'system:time_start': 1420070400000.0},\n",
       " u'type': u'Image',\n",
       " u'version': 1483697481352000L}"
      ]
     },
     "execution_count": 3,
     "metadata": {},
     "output_type": "execute_result"
    }
   ],
   "source": [
    "rasterSeason1.getInfo()"
   ]
  },
  {
   "cell_type": "code",
   "execution_count": 4,
   "metadata": {
    "collapsed": false,
    "deletable": true,
    "editable": true
   },
   "outputs": [
    {
     "data": {
      "text/plain": [
       "{u'coordinates': [[33.45815610768672, 40.00558428068579],\n",
       "  [23.809038489303575, 40.00558428068579],\n",
       "  [9.335362061737218, 40.00558428068581],\n",
       "  [-1.0559953734367642, 40.005584280685795],\n",
       "  [-14.78743198420065, 40.005584280685795],\n",
       "  [-30.00626732411657, 40.005579588766935],\n",
       "  [-30.00626732411973, -40.00557966260693],\n",
       "  [-18.127511159796093, -40.00558435452578],\n",
       "  [0.057364351758189706, -40.00558435452578],\n",
       "  [13.788800962527548, -40.00558435452578],\n",
       "  [33.82927601608015, -40.00558435452579],\n",
       "  [51.27191171084418, -40.00558435452578],\n",
       "  [65.0062674171597, -40.00557966260692],\n",
       "  [65.00626741715656, 40.00557958876695],\n",
       "  [54.240870978035474, 40.005584280685795],\n",
       "  [44.220633451257086, 40.00558428068579],\n",
       "  [33.45815610768672, 40.00558428068579]],\n",
       " u'type': u'LinearRing'}"
      ]
     },
     "execution_count": 4,
     "metadata": {},
     "output_type": "execute_result"
    }
   ],
   "source": [
    "coordinate = rasterSeason1.get('system:footprint')\n",
    "coordinate.getInfo()"
   ]
  },
  {
   "cell_type": "code",
   "execution_count": 5,
   "metadata": {
    "collapsed": false,
    "deletable": true,
    "editable": true
   },
   "outputs": [
    {
     "data": {
      "text/plain": [
       "tuple"
      ]
     },
     "execution_count": 5,
     "metadata": {},
     "output_type": "execute_result"
    }
   ],
   "source": [
    "illo = rasterSeason1.get('system:index'),2\n",
    "type(illo)"
   ]
  },
  {
   "cell_type": "code",
   "execution_count": 6,
   "metadata": {
    "collapsed": false,
    "deletable": true,
    "editable": true
   },
   "outputs": [
    {
     "data": {
      "text/plain": [
       "u'L1_AGBP_15s1'"
      ]
     },
     "execution_count": 6,
     "metadata": {},
     "output_type": "execute_result"
    }
   ],
   "source": [
    "index = rasterSeason1.get('system:index')\n",
    "index.getInfo()"
   ]
  },
  {
   "cell_type": "code",
   "execution_count": 7,
   "metadata": {
    "collapsed": false,
    "deletable": true,
    "editable": true
   },
   "outputs": [
    {
     "data": {
      "text/plain": [
       "[u'b1']"
      ]
     },
     "execution_count": 7,
     "metadata": {},
     "output_type": "execute_result"
    }
   ],
   "source": [
    "bande = rasterSeason1.bandNames()\n",
    "bande.getInfo()"
   ]
  },
  {
   "cell_type": "code",
   "execution_count": 8,
   "metadata": {
    "collapsed": false,
    "deletable": true,
    "editable": true
   },
   "outputs": [],
   "source": [
    "region = [[-25.0, -37.0], [60.0, -41.0], [58.0, 39.0], [-31.0, 38.0], [-25.0, -37.0]]"
   ]
  },
  {
   "cell_type": "markdown",
   "metadata": {},
   "source": [
    "# Inizio calcolo WP"
   ]
  },
  {
   "cell_type": "markdown",
   "metadata": {},
   "source": [
    "### Above Ground Biomass Production with masked NoData (pixel < 0) and summed"
   ]
  },
  {
   "cell_type": "code",
   "execution_count": 9,
   "metadata": {
    "collapsed": false,
    "deletable": true,
    "editable": true
   },
   "outputs": [],
   "source": [
    "L1_AGBPSeasonalMasked =L1_AGBPSeasonals.map(lambda lista: lista.updateMask(lista.gte(0)))\n",
    "\n",
    "#the multiplier will need to be applied on net FRAME delivery, not on sample dataset\n",
    "L1_AGBPSummedYearly = L1_AGBPSeasonalMasked.sum(); #.multiply(10); "
   ]
  },
  {
   "cell_type": "markdown",
   "metadata": {},
   "source": [
    "### Actual Evapotranspiration with valid ETa values (>0 and <254)"
   ]
  },
  {
   "cell_type": "code",
   "execution_count": 10,
   "metadata": {
    "collapsed": false,
    "deletable": true,
    "editable": true
   },
   "outputs": [],
   "source": [
    "ETaColl1 = AET250.map(lambda immagine: immagine.updateMask(immagine.lt(254) and (immagine.gt(0)))) "
   ]
  },
  {
   "cell_type": "markdown",
   "metadata": {
    "collapsed": false,
    "deletable": true,
    "editable": true
   },
   "source": [
    "### add image property (days in dekad) as band"
   ]
  },
  {
   "cell_type": "code",
   "execution_count": 11,
   "metadata": {
    "collapsed": false,
    "deletable": true,
    "editable": true
   },
   "outputs": [],
   "source": [
    "ETaColl2 = ETaColl1.map(lambda immagine: immagine.addBands(immagine.metadata('days_in_dk')));"
   ]
  },
  {
   "cell_type": "markdown",
   "metadata": {},
   "source": [
    "### get ET value, divide by 10 (as per FRAME spec) to get daily value, and multiply by number of days in dekad summed annually"
   ]
  },
  {
   "cell_type": "code",
   "execution_count": 12,
   "metadata": {
    "collapsed": false,
    "deletable": true,
    "editable": true
   },
   "outputs": [],
   "source": [
    "ETaColl3 = ETaColl2.map(lambda immagine: immagine.select('b1').divide(10).multiply(immagine.select('days_in_dk'))).sum()"
   ]
  },
  {
   "cell_type": "markdown",
   "metadata": {},
   "source": [
    "### scale ETsum from mm/m² to m³/ha for WP calculation purposes"
   ]
  },
  {
   "cell_type": "code",
   "execution_count": 13,
   "metadata": {
    "collapsed": true
   },
   "outputs": [],
   "source": [
    "ETaTotm3 = ETaColl3.multiply(10)"
   ]
  },
  {
   "cell_type": "markdown",
   "metadata": {},
   "source": [
    "### calculate biomass water productivity and add to map"
   ]
  },
  {
   "cell_type": "code",
   "execution_count": 23,
   "metadata": {
    "collapsed": false
   },
   "outputs": [
    {
     "data": {
      "text/plain": [
       "{u'bands': [{u'crs': u'EPSG:4326',\n",
       "   u'crs_transform': [1.0, 0.0, 0.0, 0.0, 1.0, 0.0],\n",
       "   u'data_type': {u'precision': u'double', u'type': u'PixelType'},\n",
       "   u'id': u'b1'}],\n",
       " u'type': u'Image'}"
      ]
     },
     "execution_count": 23,
     "metadata": {},
     "output_type": "execute_result"
    }
   ],
   "source": [
    "WPbm = L1_AGBPSummedYearly.divide(ETaTotm3)\n",
    "WPbm.getInfo()"
   ]
  },
  {
   "cell_type": "code",
   "execution_count": 36,
   "metadata": {
    "collapsed": true
   },
   "outputs": [],
   "source": [
    "region = [[-25.0, -37.0], [60.0, -41.0], [58.0, 39.0], [-31.0, 38.0], [-25.0, -37.0]]\n",
    "scala = WPbm.projection().nominalScale().getInfo()\n",
    "\n",
    "visparams = {\"opacity\":1,\n",
    "             \"min\":0,\n",
    "             \"max\":1.2,\n",
    "             \"palette\":\"bc170f,e97a1a,fff83a,9bff40,5cb326\",\n",
    "             \"region\":region,\n",
    "             \"scale\" : scala}"
   ]
  },
  {
   "cell_type": "code",
   "execution_count": 37,
   "metadata": {
    "collapsed": false
   },
   "outputs": [
    {
     "data": {
      "text/html": [
       "<img src=\"https://earthengine.googleapis.com/api/thumb?thumbid=ca7e0513f35ed349ace23502091ac682&token=6fb256d69c8d5df8366569aadfe9f540\"/>"
      ],
      "text/plain": [
       "<IPython.core.display.Image object>"
      ]
     },
     "execution_count": 37,
     "metadata": {},
     "output_type": "execute_result"
    }
   ],
   "source": [
    "url_WPbm = WPbm.getThumbUrl(visparams)\n",
    "Image(url=url_WPbm)"
   ]
  },
  {
   "cell_type": "code",
   "execution_count": 29,
   "metadata": {
    "collapsed": true,
    "deletable": true,
    "editable": true
   },
   "outputs": [],
   "source": [
    "downConfig = {'scale': scala,\n",
    "              'maxPixels' : 1500000000,\n",
    "              'region': region};\n",
    "\n",
    "fileName = 'WP_py'\n",
    "export = ee.batch.Export.image(WPbm, fileName,downConfig);\n",
    "#export.start();"
   ]
  }
 ],
 "metadata": {
  "kernelspec": {
   "display_name": "Python 2",
   "language": "python",
   "name": "python2"
  },
  "language_info": {
   "codemirror_mode": {
    "name": "ipython",
    "version": 2
   },
   "file_extension": ".py",
   "mimetype": "text/x-python",
   "name": "python",
   "nbconvert_exporter": "python",
   "pygments_lexer": "ipython2",
   "version": "2.7.12"
  }
 },
 "nbformat": 4,
 "nbformat_minor": 2
}
