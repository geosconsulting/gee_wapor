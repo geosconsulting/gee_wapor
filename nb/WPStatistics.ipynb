{
 "cells": [
  {
   "cell_type": "code",
   "execution_count": 1,
   "metadata": {
    "collapsed": false,
    "deletable": true,
    "editable": true
   },
   "outputs": [],
   "source": [
    "import ee\n",
    "from IPython import display\n",
    "from IPython.display import Image\n",
    "import math\n",
    "import matplotlib.pyplot as plt\n",
    "from osgeo import gdal\n",
    "import tempfile\n",
    "import urllib\n",
    "import zipfile\n",
    "from mpl_toolkits.basemap import Basemap\n",
    "import numpy as np"
   ]
  },
  {
   "cell_type": "code",
   "execution_count": 2,
   "metadata": {
    "collapsed": false,
    "deletable": true,
    "editable": true
   },
   "outputs": [],
   "source": [
    "ee.Initialize()\n",
    "L1_AGBPSeasonals = ee.ImageCollection(\"projects/fao-wapor/L1_AGBP\")\n",
    "L1_AGBPDekadal = ee.ImageCollection(\"projects/fao-wapor/L1_AGBP250\")\n",
    "ETaCollection = ee.ImageCollection(\"projects/fao-wapor/L1_AET\")\n",
    "AET250 = ee.ImageCollection(\"users/lpeiserfao/AET250\")"
   ]
  },
  {
   "cell_type": "code",
   "execution_count": 3,
   "metadata": {
    "collapsed": false,
    "deletable": true,
    "editable": true
   },
   "outputs": [],
   "source": [
    "region = [[-25.0, -40.0], [65.0, -40.0], [65.0, 40.0], [-30.0, 40.0], [-30.0, -40.0]]"
   ]
  },
  {
   "cell_type": "markdown",
   "metadata": {
    "deletable": true,
    "editable": true
   },
   "source": [
    "# Calcolo WP Annuale"
   ]
  },
  {
   "cell_type": "code",
   "execution_count": 4,
   "metadata": {
    "collapsed": false,
    "deletable": true,
    "editable": true
   },
   "outputs": [],
   "source": [
    "L1_AGBPSeasonalMasked = L1_AGBPSeasonals.map(lambda lista: lista.updateMask(lista.gte(0)))\n",
    "L1_AGBPSummedYearly = L1_AGBPSeasonalMasked.sum(); #.multiply(10); \n",
    "ETaColl1 = AET250.map(lambda immagine: immagine.updateMask(immagine.lt(254) and (immagine.gt(0)))) \n",
    "ETaColl2 = ETaColl1.map(lambda immagine: immagine.addBands(immagine.metadata('days_in_dk')));\n",
    "ETaColl3 = ETaColl2.map(lambda immagine: immagine.select('b1').divide(10).multiply(immagine.select('days_in_dk'))).sum()\n",
    "ETaTotm3 = ETaColl3.multiply(10)\n",
    "WPbm = L1_AGBPSummedYearly.divide(ETaTotm3)"
   ]
  },
  {
   "cell_type": "code",
   "execution_count": 5,
   "metadata": {
    "collapsed": true,
    "deletable": true,
    "editable": true
   },
   "outputs": [],
   "source": [
    "scala = WPbm.projection().nominalScale().getInfo()\n",
    "visparams = {\"opacity\":1,\n",
    "             \"min\":0,\n",
    "             \"max\":1.2,\n",
    "             \"palette\":\"bc170f,e97a1a,fff83a,9bff40,5cb326\",\n",
    "             \"region\":region,\n",
    "             \"scale\" : scala}"
   ]
  },
  {
   "cell_type": "code",
   "execution_count": 7,
   "metadata": {
    "collapsed": false,
    "deletable": true,
    "editable": true
   },
   "outputs": [
    {
     "data": {
      "text/html": [
       "<img src=\"https://earthengine.googleapis.com/api/thumb?thumbid=309a0c9b60fec3ebc3bfd981a5952946&token=7d99c8b82714baf22e9cc8502c27c181\"/>"
      ],
      "text/plain": [
       "<IPython.core.display.Image object>"
      ]
     },
     "execution_count": 7,
     "metadata": {},
     "output_type": "execute_result"
    }
   ],
   "source": [
    "url_WPbm = WPbm.getThumbUrl(visparams)\n",
    "Image(url=url_WPbm)"
   ]
  },
  {
   "cell_type": "code",
   "execution_count": 8,
   "metadata": {
    "collapsed": false,
    "deletable": true,
    "editable": true
   },
   "outputs": [],
   "source": [
    "# image_object = ee.Image()\n",
    "# [method for method in dir(image_object) if not method.startswith('_')]"
   ]
  },
  {
   "cell_type": "code",
   "execution_count": 9,
   "metadata": {
    "collapsed": false,
    "deletable": true,
    "editable": true
   },
   "outputs": [],
   "source": [
    "#Create an ee.Geometry.\n",
    "polygon = ee.Geometry.Polygon([\n",
    "  [[-35, -10], [35, -10], [35, 10], [-35, 10], [-35, -10]]\n",
    "])\n",
    "# Create a Feature from the Geometry.\n",
    "# Prima Geometry e poi assegno proprieta\n",
    "# feature_object = ee.Feature(polygon, {'foo': 42, 'bar': 'tart'})\n",
    "# [method for method in dir(feature_object) if not method.startswith('_')]"
   ]
  },
  {
   "cell_type": "markdown",
   "metadata": {
    "deletable": true,
    "editable": true
   },
   "source": [
    "# Statistiche areali"
   ]
  },
  {
   "cell_type": "code",
   "execution_count": 10,
   "metadata": {
    "collapsed": true,
    "deletable": true,
    "editable": true
   },
   "outputs": [],
   "source": [
    "countries = ee.FeatureCollection('ft:1tdSwUL7MVpOauSgRzqVTOwdfy17KDbw-1d9omPw')\n",
    "wsheds = ee.FeatureCollection('ft:1IXfrLpTHX4dtdj1LcNXjJADBB-d93rkdJ9acSEWK')"
   ]
  },
  {
   "cell_type": "code",
   "execution_count": 11,
   "metadata": {
    "collapsed": false,
    "deletable": true,
    "editable": true
   },
   "outputs": [],
   "source": [
    "num_paesi = countries.size().getInfo()"
   ]
  },
  {
   "cell_type": "code",
   "execution_count": 12,
   "metadata": {
    "collapsed": false,
    "deletable": true,
    "editable": true
   },
   "outputs": [
    {
     "name": "stdout",
     "output_type": "stream",
     "text": [
      "Area stats: {u'values': {u'sample_sd': 19570.735094379175, u'valid_count': 387, u'total_var': 382023972.72316474, u'min': 115.53, u'max': 123712.19, u'sum': 10367336.564270122, u'weighted_sum': 10367336.564270122, u'total_count': 387, u'total_sd': 19545.43355168068, u'weight_sum': 387, u'sum_sq': 425573684257.43634, u'sample_var': 383013672.1343646, u'mean': 26788.983370207032}, u'type': u'DataDictionary'}\n"
     ]
    }
   ],
   "source": [
    "# print(wsheds.limit(1).getInfo())\n",
    "# Print the number of watersheds.\n",
    "# print('Count: ', wsheds.size().getInfo())\n",
    "# Print stats for an area property.\n",
    "print('Area stats: {}'.format(wsheds.aggregate_stats('AreaSqKm').getInfo()))"
   ]
  },
  {
   "cell_type": "code",
   "execution_count": 13,
   "metadata": {
    "collapsed": true,
    "deletable": true,
    "editable": true
   },
   "outputs": [],
   "source": [
    "nomeCountry = 'Benin'\n",
    "justCountry = countries.filter(ee.Filter.eq('Country', nomeCountry))\n",
    "raster_tagliato = WPbm.clip(justCountry)\n",
    "\n",
    "cutPoly = justCountry.geometry()\n",
    "cutBoundingBox = cutPoly.bounds(1)\n",
    "regione_paese = ee.Geometry(cutPoly.getInfo()).toGeoJSONString()"
   ]
  },
  {
   "cell_type": "code",
   "execution_count": 14,
   "metadata": {
    "collapsed": false,
    "deletable": true,
    "editable": true
   },
   "outputs": [
    {
     "data": {
      "text/html": [
       "<img src=\"https://earthengine.googleapis.com/api/thumb?thumbid=62b1a878eafa8e66efd1c7560de9887f&token=3c09b466032e64d77c0b5a57359fa8ca\"/>"
      ],
      "text/plain": [
       "<IPython.core.display.Image object>"
      ]
     },
     "execution_count": 14,
     "metadata": {},
     "output_type": "execute_result"
    }
   ],
   "source": [
    "visparams_paese_filtro = {\"opacity\":1,\n",
    "                          \"min\":0,\n",
    "                          \"max\":1.2,\n",
    "                          \"palette\":\"bc170f,e97a1a,fff83a,9bff40,5cb326\",\n",
    "                          \"region\":regione_paese,\n",
    "                          \"scale\" : scala}\n",
    "\n",
    "url_WPbm_paese_filtro = raster_tagliato.getThumbUrl(visparams_paese_filtro)\n",
    "Image(url=url_WPbm_paese_filtro)"
   ]
  },
  {
   "cell_type": "markdown",
   "metadata": {
    "deletable": true,
    "editable": true
   },
   "source": [
    "reduceRegion(\n",
    "  {\n",
    "    'reducer': ee.Reducer.sum(),\n",
    "    'geometry': Vietnam,\n",
    "    'scale' : 1000\n",
    "  })\n",
    "\n",
    "Should be replaced with:\n",
    "reduceRegion(\n",
    "  reducer=ee.Reducer.sum(),\n",
    "  geometry=Vietnam,\n",
    "  scale=1000)   "
   ]
  },
  {
   "cell_type": "code",
   "execution_count": 199,
   "metadata": {
    "collapsed": false,
    "deletable": true,
    "editable": true
   },
   "outputs": [
    {
     "name": "stdout",
     "output_type": "stream",
     "text": [
      "{u'b1': 0.6332536989023637}\n"
     ]
    }
   ],
   "source": [
    "benin_stats = WPbm.reduceRegion(\n",
    "    reducer = ee.Reducer.mean(),\n",
    "    geometry = cutPoly,\n",
    "    scale = scala,\n",
    "    maxPixels = 1e9\n",
    ")\n",
    "print benin_stats.getInfo()"
   ]
  },
  {
   "cell_type": "code",
   "execution_count": 200,
   "metadata": {
    "collapsed": false,
    "deletable": true,
    "editable": true
   },
   "outputs": [],
   "source": [
    "benin_histo = WPbm.reduceRegion(\n",
    "    reducer = ee.Reducer.histogram(10),\n",
    "    geometry = cutPoly,\n",
    "    scale = scala,\n",
    "    maxPixels = 1e9\n",
    ")\n",
    "# benin_histo.getInfo()"
   ]
  },
  {
   "cell_type": "code",
   "execution_count": 201,
   "metadata": {
    "collapsed": false,
    "deletable": true,
    "editable": true
   },
   "outputs": [],
   "source": [
    "benin_freq_histo = WPbm.reduceRegion(\n",
    "    reducer = ee.Reducer.frequencyHistogram(),\n",
    "    geometry = cutPoly,\n",
    "    scale = scala,\n",
    "    maxPixels = 1e9\n",
    ")\n",
    "#benin_freq_histo.getInfo()"
   ]
  },
  {
   "cell_type": "markdown",
   "metadata": {
    "deletable": true,
    "editable": true
   },
   "source": [
    "# WP dekad between 2015, 1, 1 - 2015, 2, 1 Benin"
   ]
  },
  {
   "cell_type": "code",
   "execution_count": 20,
   "metadata": {
    "collapsed": false,
    "deletable": true,
    "editable": true
   },
   "outputs": [
    {
     "name": "stdout",
     "output_type": "stream",
     "text": [
      "agbp: 3 aet: 3 \n"
     ]
    }
   ],
   "source": [
    "import datetime\n",
    "\n",
    "data_start = datetime.datetime(2015, 1, 1)\n",
    "data_end = datetime.datetime(2015, 2, 1)\n",
    "\n",
    "collAGBPFiltered = L1_AGBPDekadal.filterDate(\n",
    "     data_start,\n",
    "     data_end)\n",
    "\n",
    "collAETFiltered = AET250.filterDate(\n",
    "      data_start,\n",
    "      data_end)\n",
    "\n",
    "# Get the number of images.\n",
    "count_agbp = collAGBPFiltered.size().getInfo();\n",
    "count_aet = collAETFiltered.size().getInfo();\n",
    "print('agbp: {} aet: {} '.format(count_agbp,count_aet))"
   ]
  },
  {
   "cell_type": "code",
   "execution_count": 21,
   "metadata": {
    "collapsed": false,
    "deletable": true,
    "editable": true
   },
   "outputs": [
    {
     "data": {
      "text/html": [
       "<img src=\"https://earthengine.googleapis.com/api/thumb?thumbid=75e5e27b9c053a4386740b09665868e3&token=3ebbf41886914624cb2dbf539213fc65\"/>"
      ],
      "text/plain": [
       "<IPython.core.display.Image object>"
      ]
     },
     "execution_count": 21,
     "metadata": {},
     "output_type": "execute_result"
    }
   ],
   "source": [
    "L1_AGBPDekadMasked = collAGBPFiltered.map(lambda lista: lista.updateMask(lista.gte(0)))\n",
    "L1_AGBPSummedDekad = L1_AGBPDekadMasked.sum(); #.multiply(10); \n",
    "ETaColl1_Dekad = collAETFiltered.map(lambda immagine: immagine.updateMask(immagine.lt(254) and (immagine.gt(0)))) \n",
    "ETaColl2_Dekad = ETaColl1_Dekad.map(lambda immagine: immagine.addBands(immagine.metadata('days_in_dk')));\n",
    "ETaColl3_Dekad = ETaColl2_Dekad.map(lambda immagine: immagine.select('b1').divide(10).multiply(immagine.select('days_in_dk'))).sum()\n",
    "ETaTotm3_Dekad = ETaColl3_Dekad.multiply(10)\n",
    "WPbm_Dekad = L1_AGBPSummedDekad.divide(ETaTotm3_Dekad)\n",
    "\n",
    "scala = WPbm_Dekad.projection().nominalScale().getInfo()\n",
    "visparams = {\"opacity\":1,\n",
    "             \"min\":0,\n",
    "             \"max\":1.2,\n",
    "             \"palette\":\"bc170f,e97a1a,fff83a,9bff40,5cb326\",\n",
    "             \"region\": regione_paese,\n",
    "             \"scale\" : scala}\n",
    "\n",
    "url_WPbm_Deakd = WPbm.getThumbUrl(visparams)\n",
    "Image(url=url_WPbm_Deakd)"
   ]
  },
  {
   "cell_type": "code",
   "execution_count": 22,
   "metadata": {
    "collapsed": false,
    "deletable": true,
    "editable": true
   },
   "outputs": [],
   "source": [
    "benin_stats_dekad_agbp = L1_AGBPSummedDekad.reduceRegion(\n",
    "    reducer = ee.Reducer.mean(),\n",
    "    geometry = cutPoly,\n",
    "    scale = scala,\n",
    "    maxPixels = 1e9\n",
    ")\n",
    "\n",
    "benin_stats_dekad_aet = ETaColl3_Dekad.reduceRegion(\n",
    "    reducer = ee.Reducer.mean(),\n",
    "    geometry = cutPoly,\n",
    "    scale = scala,\n",
    "    maxPixels = 1e9\n",
    ")"
   ]
  },
  {
   "cell_type": "code",
   "execution_count": 23,
   "metadata": {
    "collapsed": false,
    "deletable": true,
    "editable": true
   },
   "outputs": [
    {
     "name": "stdout",
     "output_type": "stream",
     "text": [
      "agbp mean value: {u'b1': 15.91608676314354} aet mean value: {u'b1': 88.14000000000001} for Benin between 2015-01-01 00:00:00 and 2015-02-01 00:00:00\n"
     ]
    }
   ],
   "source": [
    "print('agbp mean value: {} aet mean value: {} for {} between {} and {}'.format(\n",
    "                        benin_stats_dekad_agbp.getInfo(),\n",
    "                        benin_stats_dekad_aet.getInfo(),\n",
    "                        nomeCountry,\n",
    "                        data_start,\n",
    "                        data_end))"
   ]
  },
  {
   "cell_type": "markdown",
   "metadata": {
    "deletable": true,
    "editable": true
   },
   "source": [
    "# WP dekad between 2015, 1, 1 - 2015, 6, 30 in Ethiopia"
   ]
  },
  {
   "cell_type": "code",
   "execution_count": 24,
   "metadata": {
    "collapsed": false,
    "deletable": true,
    "editable": true
   },
   "outputs": [
    {
     "name": "stdout",
     "output_type": "stream",
     "text": [
      "agbp: 33 aet: 18 \n"
     ]
    }
   ],
   "source": [
    "nomeCountry = 'Ethiopia'\n",
    "justCountry = countries.filter(ee.Filter.eq('Country', nomeCountry))\n",
    "cutPoly = justCountry.geometry()\n",
    "regione_paese = ee.Geometry(cutPoly.getInfo()).toGeoJSONString()\n",
    "\n",
    "data_start = datetime.datetime(2015, 1, 1)\n",
    "data_end = datetime.datetime(2015, 6, 30)\n",
    "\n",
    "collAGBPFiltered_eth = L1_AGBPDekadal.filterDate(\n",
    "     data_start,\n",
    "     data_end)\n",
    "\n",
    "collAETFiltered_eth = AET250.filterDate(\n",
    "      data_start,\n",
    "      data_end)\n",
    "\n",
    "# Get the number of images.\n",
    "count_agbp_eth = collAGBPFiltered_eth.size().getInfo();\n",
    "count_aet_eth = collAETFiltered_eth.size().getInfo();\n",
    "print('agbp: {} aet: {} '.format(count_agbp_eth,count_aet_eth))"
   ]
  },
  {
   "cell_type": "code",
   "execution_count": 25,
   "metadata": {
    "collapsed": false,
    "deletable": true,
    "editable": true
   },
   "outputs": [
    {
     "data": {
      "text/plain": [
       "{u'coordinates': [[[32.98942939999999, 3.4066659999999747],\n",
       "   [47.989429400000006, 3.4066659999999747],\n",
       "   [47.989429400000006, 14.883609700000026],\n",
       "   [32.98942939999999, 14.883609700000026],\n",
       "   [32.98942939999999, 3.4066659999999747]]],\n",
       " u'geodesic': False,\n",
       " u'type': u'Polygon'}"
      ]
     },
     "execution_count": 25,
     "metadata": {},
     "output_type": "execute_result"
    }
   ],
   "source": [
    "cutBoundingBox = cutPoly.bounds(1)\n",
    "cutBoundingBox.getInfo()"
   ]
  },
  {
   "cell_type": "code",
   "execution_count": 26,
   "metadata": {
    "collapsed": false,
    "deletable": true,
    "editable": true
   },
   "outputs": [
    {
     "data": {
      "text/html": [
       "<img src=\"https://earthengine.googleapis.com/api/thumb?thumbid=159e90b54a265a6fbd6ad3caa78f1de6&token=da4723f9169f37bf55b742b487ef4e0d\"/>"
      ],
      "text/plain": [
       "<IPython.core.display.Image object>"
      ]
     },
     "execution_count": 26,
     "metadata": {},
     "output_type": "execute_result"
    }
   ],
   "source": [
    "L1_AGBPDekadMasked = collAGBPFiltered_eth.map(lambda lista: lista.updateMask(lista.gte(0)))\n",
    "L1_AGBPSummedDekad = L1_AGBPDekadMasked.sum(); #.multiply(10); \n",
    "ETaColl1_Dekad = collAETFiltered_eth.map(lambda immagine: immagine.updateMask(immagine.lt(254) and (immagine.gt(0)))) \n",
    "ETaColl2_Dekad = ETaColl1_Dekad.map(lambda immagine: immagine.addBands(immagine.metadata('days_in_dk')));\n",
    "ETaColl3_Dekad = ETaColl2_Dekad.map(lambda immagine: immagine.select('b1').divide(10).multiply(immagine.select('days_in_dk'))).sum()\n",
    "ETaTotm3_Dekad = ETaColl3_Dekad.multiply(10)\n",
    "WPbm_Dekad = L1_AGBPSummedDekad.divide(ETaTotm3_Dekad)\n",
    "\n",
    "scala = WPbm_Dekad.projection().nominalScale().getInfo()\n",
    "visparams = {\"opacity\":1,\n",
    "             \"min\":0,\n",
    "             \"max\":1.2,\n",
    "             \"palette\":\"bc170f,e97a1a,fff83a,9bff40,5cb326\",\n",
    "             \"region\": regione_paese,\n",
    "             \"scale\" : scala}\n",
    "\n",
    "url_WPbm_Deakd = WPbm_Dekad.getThumbUrl(visparams)\n",
    "Image(url=url_WPbm_Deakd)"
   ]
  },
  {
   "cell_type": "code",
   "execution_count": 27,
   "metadata": {
    "collapsed": false,
    "deletable": true,
    "editable": true
   },
   "outputs": [],
   "source": [
    "ethiopia_stats_dekad_agbp = L1_AGBPSummedDekad.reduceRegion(\n",
    "    reducer = ee.Reducer.mean(),\n",
    "    geometry = cutPoly,\n",
    "    scale = scala,\n",
    "    maxPixels = 1e9\n",
    ")\n",
    "\n",
    "ethiopia_stats_dekad_aet = ETaColl3_Dekad.reduceRegion(\n",
    "    reducer = ee.Reducer.mean(),\n",
    "    geometry = cutPoly,\n",
    "    scale = scala,\n",
    "    maxPixels = 1e9\n",
    ")"
   ]
  },
  {
   "cell_type": "code",
   "execution_count": 28,
   "metadata": {
    "collapsed": false,
    "deletable": true,
    "editable": true
   },
   "outputs": [
    {
     "name": "stdout",
     "output_type": "stream",
     "text": [
      "agbp mean value: {u'b1': 8070.789785150941} aet mean value: {u'b1': 317.1956521739131} for Ethiopia between 2015-01-01 00:00:00 and 2015-06-30 00:00:00\n"
     ]
    }
   ],
   "source": [
    "print('agbp mean value: {} aet mean value: {} for {} between {} and {}'.format(\n",
    "                        ethiopia_stats_dekad_agbp.getInfo(),\n",
    "                        ethiopia_stats_dekad_aet.getInfo(),\n",
    "                        nomeCountry,\n",
    "                        data_start,\n",
    "                        data_end))"
   ]
  },
  {
   "cell_type": "markdown",
   "metadata": {
    "deletable": true,
    "editable": true
   },
   "source": [
    "Just in case it helps anyone, converting the EarthEngine palette strings to matplotlib colormap objects was really easy:\n",
    "\n",
    "#User can input a comma separate string or a list of strings\n",
    "#If the palette is a string, split on commas\n",
    "\n",
    "if isinstance(palette, str):\n",
    "    palette = palette.split(',')\n",
    "color_list = map(lambda x: '#'+x.strip(), palette)\n",
    "cmap_obj = colors.LinearSegmentedColormap.from_list('palette', color_list)\n",
    "\n",
    "I wasn't sure if there was a more \"pythonic\" way of letting the user input a list of colors or a comma separate string of colors, but this seemed to work."
   ]
  },
  {
   "cell_type": "code",
   "execution_count": 29,
   "metadata": {
    "collapsed": false,
    "deletable": true,
    "editable": true
   },
   "outputs": [],
   "source": [
    "import matplotlib.pyplot as plt\n",
    "\n",
    "sanFrancisco = ee.Geometry.Rectangle(-122.45, 37.74, -122.4, 37.8)\n",
    "landsat8Toa = ee.ImageCollection('LANDSAT/LC8_L1T_32DAY_TOA').filterDate('2012-12-25', '2013-12-25').select('B[1-7]')\n",
    "\n",
    "def getMean(img):\n",
    "    return img.reduceRegions(sanFrancisco, \n",
    "                             ee.Reducer.mean().forEachBand(img),\n",
    "                             200).makeArray(['B{0}'.format(x) for x in range(1,8)],'values')\n",
    "ans = ee.FeatureCollection(landsat8Toa.map(getMean)).flatten().aggregate_array('.all').getInfo()"
   ]
  },
  {
   "cell_type": "code",
   "execution_count": 31,
   "metadata": {
    "collapsed": false,
    "deletable": true,
    "editable": true
   },
   "outputs": [],
   "source": [
    "data = [x['properties']['values'] for x in ans]\n",
    "x_ = range(0,7)\n",
    "labels = ['B{0}'.format(x) for x in range(1,8)]\n",
    "#data"
   ]
  },
  {
   "cell_type": "code",
   "execution_count": 32,
   "metadata": {
    "collapsed": false,
    "deletable": true,
    "editable": true
   },
   "outputs": [
    {
     "data": {
      "image/png": "[encoded data removed]",
      "text/plain": [
       "<matplotlib.figure.Figure at 0xa60cc90c>"
      ]
     },
     "metadata": {},
     "output_type": "display_data"
    }
   ],
   "source": [
    "plt.plot(data)\n",
    "plt.xticks(range(len(plt.xticks()[0])),[datetime.datetime.strptime(x['id'][:-2], \"%Y%m%d\").strftime('%b %Y') for x in ans])\n",
    "plt.legend(plt.plot(data),['B{0}'.format(x) for x in range(1,8)])\n",
    "plt.show()"
   ]
  },
  {
   "cell_type": "code",
   "execution_count": 190,
   "metadata": {
    "collapsed": false,
    "deletable": true,
    "editable": true
   },
   "outputs": [],
   "source": [
    "nomeCountry = 'Ethiopia'\n",
    "justCountry = countries.filter(ee.Filter.eq('Country', nomeCountry))\n",
    "cutPoly = justCountry.geometry()\n",
    "cutBoundingBox = cutPoly.bounds(1)\n",
    "regione_paese = ee.Geometry(cutPoly.getInfo()).toGeoJSONString()\n",
    "centroid = justCountry.geometry().centroid()\n",
    "data_start = datetime.datetime(2015, 1, 1)\n",
    "data_end = datetime.datetime(2015, 3, 30)\n",
    "\n",
    "ETaCollection_filtered = ETaCollection.filterDate(data_start,data_end).filterBounds(cutBoundingBox)"
   ]
  },
  {
   "cell_type": "code",
   "execution_count": 191,
   "metadata": {
    "collapsed": false,
    "deletable": true,
    "editable": true
   },
   "outputs": [],
   "source": [
    "def getMean(img):\n",
    "    return img.reduceRegions(cutBoundingBox, \n",
    "                             ee.Reducer.mean(),\n",
    "                             200)\n",
    "ans = ee.FeatureCollection(ETaCollection_filtered.map(getMean)).flatten().aggregate_array('.all').getInfo()"
   ]
  },
  {
   "cell_type": "code",
   "execution_count": 192,
   "metadata": {
    "collapsed": false,
    "deletable": true,
    "editable": true
   },
   "outputs": [
    {
     "name": "stdout",
     "output_type": "stream",
     "text": [
      "[19.631259833871955, 20.624017340422323, 21.389710121038082, 20.841556212968012, 23.110269554777588, 23.57789106080479, 23.795299172533944, 24.52730775878192, 23.83638288148842, 26.456336513233417, 26.600642803978353, 26.16706230533888, 26.77254539875941, 31.984723891943606, 31.07141288114332, 32.163572922306976, 33.402218693788804, 31.227261852146142]\n"
     ]
    }
   ],
   "source": [
    "x_agbp = [x['properties']['mean'] for x in ans]\n",
    "print x_agbp\n",
    "labels_agbp = [x['id'][:8] for x in ans]\n",
    "lables_data = [datetime.datetime.strptime(label,\"%Y%m%d\").strftime('%Y-%m-%d') for label in labels_agbp]"
   ]
  },
  {
   "cell_type": "code",
   "execution_count": 193,
   "metadata": {
    "collapsed": false,
    "deletable": true,
    "editable": true
   },
   "outputs": [
    {
     "data": {
      "image/png": "[encoded data removed]",
      "text/plain": [
       "<matplotlib.figure.Figure at 0xa1b5d64c>"
      ]
     },
     "metadata": {},
     "output_type": "display_data"
    }
   ],
   "source": [
    "plt.plot(x_agbp)\n",
    "plt.xticks(range(len(labels_agbp)), lables_data, rotation= 90)\n",
    "plt.show()"
   ]
  },
  {
   "cell_type": "code",
   "execution_count": 39,
   "metadata": {
    "collapsed": false,
    "deletable": true,
    "editable": true
   },
   "outputs": [
    {
     "name": "stdout",
     "output_type": "stream",
     "text": [
      "https://earthengine.googleapis.com/api/thumb?thumbid=10c9cf94be753527f415a89987d8ef0a&token=757ddc0fbc5d7fb907b608183137b4a2\n"
     ]
    }
   ],
   "source": [
    "elev = ee.Image('srtm90_v4')\n",
    "cover = ee.Image('MCD12Q1/MCD12Q1_005_2001_01_01').select('Land_Cover_Type_1')\n",
    "blank = ee.Image(0)\n",
    "\n",
    "# Where (1 <= cover <= 4) and (elev > 1000), set the output to 1.\n",
    "output = blank.where(\n",
    "    cover.lte(4).And(cover.gte(1)).And(elev.gt(1000)),\n",
    "    1)\n",
    "\n",
    "# Output contains 0s and 1s.  Mask it with itself to get rid of the 0s.\n",
    "result = output.mask(output)\n",
    "\n",
    "url=result.getThumbUrl({'min':0, 'max':3000, 'region':'[[-126, 49], [-103, 49], [-103, 31], [-126, 31]]'})\n",
    "print(url)"
   ]
  },
  {
   "cell_type": "code",
   "execution_count": null,
   "metadata": {
    "collapsed": true,
    "deletable": true,
    "editable": true
   },
   "outputs": [],
   "source": []
  }
 ],
 "metadata": {
  "kernelspec": {
   "display_name": "Python 2",
   "language": "python",
   "name": "python2"
  },
  "language_info": {
   "codemirror_mode": {
    "name": "ipython",
    "version": 2
   },
   "file_extension": ".py",
   "mimetype": "text/x-python",
   "name": "python",
   "nbconvert_exporter": "python",
   "pygments_lexer": "ipython2",
   "version": "2.7.12"
  }
 },
 "nbformat": 4,
 "nbformat_minor": 2
}
